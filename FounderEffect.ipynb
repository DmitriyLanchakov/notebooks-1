{
 "cells": [
  {
   "cell_type": "code",
   "execution_count": 1,
   "metadata": {},
   "outputs": [
    {
     "data": {
      "text/plain": [
       "78729"
      ]
     },
     "execution_count": 1,
     "metadata": {},
     "output_type": "execute_result"
    }
   ],
   "source": [
    "# http://science.sciencemag.org/content/332/6027/346\n",
    "\n",
    "import os\n",
    "import io\n",
    "import re\n",
    "import sys\n",
    "import zipfile\n",
    "import subprocess\n",
    "if sys.version_info < (3,):\n",
    "    from urllib import urlretrieve\n",
    "else:\n",
    "    from urllib.request import urlretrieve\n",
    "\n",
    "SOM = ('http://science.sciencemag.org/highwire/filestream/592443/'\n",
    "       'field_highwire_adjunct_files/0/1199295-Atkinson-SOM.pdf')\n",
    "PDF = SOM.rpartition('/')[2]\n",
    "TXT = '%s.txt' % os.path.splitext(PDF)[0]\n",
    "\n",
    "if not os.path.exists(PDF):\n",
    "    urlretrieve(SOM, PDF)\n",
    "\n",
    "if not os.path.exists(TXT):  # requires one of popper-utils, miktex-poppler-bin, xpdf\n",
    "    cmd = ['pdftotext', '-f', '21', '-l', '33', '-layout', '-nopgbrk', PDF, TXT]\n",
    "    subprocess.check_call(cmd)\n",
    "\n",
    "with io.open(TXT, encoding='utf-8') as fd:\n",
    "    _, _ , S1 = fd.read().strip().partition('\\n\\n\\n')\n",
    "\n",
    "assert ',' not in S1\n",
    "\n",
    "len(S1)"
   ]
  },
  {
   "cell_type": "code",
   "execution_count": 2,
   "metadata": {},
   "outputs": [
    {
     "data": {
      "text/plain": [
       "(12, 504)"
      ]
     },
     "execution_count": 2,
     "metadata": {},
     "output_type": "execute_result"
    }
   ],
   "source": [
    "S1_HEAD = \"\"\"\n",
    "Language Name\n",
    "WALS code\n",
    "Family\n",
    "Latitude\n",
    "Longitude\n",
    "Normalized Vowel Diversity\n",
    "Normalized Consonant Diversity\n",
    "Normalized Tone Diversity\n",
    "Total Normalized Phoneme Diversity\n",
    "ISO codes\n",
    "Estimated Speaker Pop. Size\n",
    "Distance from best fit origin\n",
    "\"\"\".strip().splitlines()\n",
    "\n",
    "S1_FEAT = [h for h in S1_HEAD if h.startswith('Normalized ')]\n",
    "S1_OUTC = S1_HEAD[-2:]\n",
    "\n",
    "S1_DATA = S1[S1.index('\\nAbkhaz '):].strip()\n",
    "\n",
    "S1_DATA = re.sub(r'(\\))([a-z]{3} )', r'\\1 \\2', S1_DATA)  # fix missing space\n",
    "S1_DATA = re.sub(r'\\n +([a-z]{3})\\n(.+?)  ', r'\\n\\2 \\1 ', S1_DATA)  # fix splitted lines\n",
    "S1_DATA = S1_DATA.replace('(San Mateo del Mar)', '(San Mateo Del Mar)')  # simplify iso detection\n",
    "\n",
    "S1_DATA = [l.strip() for l in S1_DATA.splitlines()]\n",
    "\n",
    "len(S1_HEAD), len(S1_DATA)"
   ]
  },
  {
   "cell_type": "code",
   "execution_count": 3,
   "metadata": {},
   "outputs": [
    {
     "data": {
      "text/plain": [
       "'Language Name,WALS code,Family,Latitude,Longitude,Normalized Vowel Diversity,Normalized Consonant Diversity,Normalized Tone Diversity,Total Normalized Phoneme Diversity,ISO codes,Estimated Speaker Pop. Size,Distance from best fit origin\\nAbkhaz,abk,Northwest Caucasian,43.08,41,-1.2345266,-1.5544112,-0.7687792,-1.185905651,abk,105952,5856.362\\nAcoma,aco,Keresan,34.92,-107.58,-0.4846364,-0.7169629,1.86204304,0.220147906,kjq,3391,18601.19\\nAndoke,adk,Andoke,-0.67,-72,1.3900889,-1.5544112,0.54663194,0.'"
      ]
     },
     "execution_count": 3,
     "metadata": {},
     "output_type": "execute_result"
    }
   ],
   "source": [
    "ROW = re.compile(r'''(?x)^\n",
    "(.+?)\\ +\n",
    "([a-z]{2,3})\\ +\n",
    "(.+?)\\ +\n",
    "(-?\\d+(?:\\.\\d+)?)\\ +\n",
    "(-?\\d+(?:\\.\\d+)?)\\ +\n",
    "(-?\\d+\\.\\d+)\\ +\n",
    "(-?\\d+\\.\\d+)\\ +\n",
    "(-?\\d+\\.\\d+)\\ +\n",
    "(-?\\d+\\.\\d+)\\ +\n",
    "(.+?)\\ +\n",
    "(\\d+)\\ +\n",
    "(\\d+(?:\\.\\d+)?)\n",
    "$''')\n",
    "\n",
    "csv = '\\n'.join(','.join(r) for r in [S1_HEAD] + [ROW.match(l).groups() for l in S1_DATA])\n",
    "\n",
    "csv[:500]"
   ]
  },
  {
   "cell_type": "code",
   "execution_count": 4,
   "metadata": {},
   "outputs": [
    {
     "name": "stdout",
     "output_type": "stream",
     "text": [
      "<class 'pandas.core.frame.DataFrame'>\n",
      "Index: 504 entries, abk to zun\n",
      "Data columns (total 11 columns):\n",
      "Language Name                         504 non-null object\n",
      "Family                                504 non-null object\n",
      "Latitude                              504 non-null float64\n",
      "Longitude                             504 non-null float64\n",
      "Normalized Vowel Diversity            504 non-null float64\n",
      "Normalized Consonant Diversity        504 non-null float64\n",
      "Normalized Tone Diversity             504 non-null float64\n",
      "Total Normalized Phoneme Diversity    504 non-null float64\n",
      "ISO codes                             504 non-null object\n",
      "Estimated Speaker Pop. Size           504 non-null int64\n",
      "Distance from best fit origin         504 non-null float64\n",
      "dtypes: float64(7), int64(1), object(3)\n",
      "memory usage: 47.2+ KB\n"
     ]
    }
   ],
   "source": [
    "%matplotlib inline\n",
    "\n",
    "import warnings\n",
    "import itertools\n",
    "\n",
    "import pandas as pd\n",
    "import scipy.stats\n",
    "import matplotlib.pyplot as plt\n",
    "\n",
    "warnings.simplefilter(action='ignore', category=pd.core.common.SettingWithCopyWarning)\n",
    "\n",
    "def pearsonr(df, left, right, func=scipy.stats.pearsonr):\n",
    "    df = df[[left, right]].dropna()\n",
    "    name = '%s & %s' % (left, right)\n",
    "    return pd.Series(func(df[left], df[right]), index=('r', 'p'), name=name)\n",
    "\n",
    "with io.StringIO(csv) as fd:\n",
    "    s1 = pd.read_csv(fd, na_values='', keep_default_na=False, index_col='WALS code')\n",
    "\n",
    "s1.info()\n",
    "assert s1.index.is_unique"
   ]
  },
  {
   "cell_type": "code",
   "execution_count": 5,
   "metadata": {},
   "outputs": [
    {
     "data": {
      "text/html": [
       "<div>\n",
       "<style>\n",
       "    .dataframe thead tr:only-child th {\n",
       "        text-align: right;\n",
       "    }\n",
       "\n",
       "    .dataframe thead th {\n",
       "        text-align: left;\n",
       "    }\n",
       "\n",
       "    .dataframe tbody tr th {\n",
       "        vertical-align: top;\n",
       "    }\n",
       "</style>\n",
       "<table border=\"1\" class=\"dataframe\">\n",
       "  <thead>\n",
       "    <tr style=\"text-align: right;\">\n",
       "      <th></th>\n",
       "      <th>r</th>\n",
       "      <th>p</th>\n",
       "    </tr>\n",
       "  </thead>\n",
       "  <tbody>\n",
       "    <tr>\n",
       "      <th>Estimated Speaker Pop. Size &amp; Normalized Vowel Diversity</th>\n",
       "      <td>0.032</td>\n",
       "      <td>0.480</td>\n",
       "    </tr>\n",
       "    <tr>\n",
       "      <th>Estimated Speaker Pop. Size &amp; Normalized Consonant Diversity</th>\n",
       "      <td>0.090</td>\n",
       "      <td>0.044</td>\n",
       "    </tr>\n",
       "    <tr>\n",
       "      <th>Estimated Speaker Pop. Size &amp; Normalized Tone Diversity</th>\n",
       "      <td>0.037</td>\n",
       "      <td>0.413</td>\n",
       "    </tr>\n",
       "    <tr>\n",
       "      <th>Estimated Speaker Pop. Size &amp; Total Normalized Phoneme Diversity</th>\n",
       "      <td>0.082</td>\n",
       "      <td>0.065</td>\n",
       "    </tr>\n",
       "    <tr>\n",
       "      <th>Distance from best fit origin &amp; Normalized Vowel Diversity</th>\n",
       "      <td>-0.394</td>\n",
       "      <td>0.000</td>\n",
       "    </tr>\n",
       "    <tr>\n",
       "      <th>Distance from best fit origin &amp; Normalized Consonant Diversity</th>\n",
       "      <td>-0.260</td>\n",
       "      <td>0.000</td>\n",
       "    </tr>\n",
       "    <tr>\n",
       "      <th>Distance from best fit origin &amp; Normalized Tone Diversity</th>\n",
       "      <td>-0.391</td>\n",
       "      <td>0.000</td>\n",
       "    </tr>\n",
       "    <tr>\n",
       "      <th>Distance from best fit origin &amp; Total Normalized Phoneme Diversity</th>\n",
       "      <td>-0.545</td>\n",
       "      <td>0.000</td>\n",
       "    </tr>\n",
       "  </tbody>\n",
       "</table>\n",
       "</div>"
      ],
      "text/plain": [
       "\n",
       "                                                        r      p\n",
       "Estimated Speaker Pop. Size & Normalized Vowel ...  0.032  0.480\n",
       "Estimated Speaker Pop. Size & Normalized Conson...  0.090  0.044\n",
       "Estimated Speaker Pop. Size & Normalized Tone D...  0.037  0.413\n",
       "Estimated Speaker Pop. Size & Total Normalized ...  0.082  0.065\n",
       "Distance from best fit origin & Normalized Vowe... -0.394  0.000\n",
       "Distance from best fit origin & Normalized Cons... -0.260  0.000\n",
       "Distance from best fit origin & Normalized Tone... -0.391  0.000\n",
       "Distance from best fit origin & Total Normalize... -0.545  0.000"
      ]
     },
     "metadata": {},
     "output_type": "display_data"
    }
   ],
   "source": [
    "PAIRS = list(itertools.product(S1_OUTC, S1_FEAT + ['Total Normalized Phoneme Diversity']))\n",
    "pd.DataFrame([pearsonr(s1, x, y) for x, y in PAIRS]).round(3)"
   ]
  },
  {
   "cell_type": "code",
   "execution_count": 6,
   "metadata": {},
   "outputs": [
    {
     "data": {
      "image/png": "[encoded data removed]",
      "text/plain": [
       "<matplotlib.figure.Figure at 0x4d6f320>"
      ]
     },
     "metadata": {},
     "output_type": "display_data"
    }
   ],
   "source": [
    "s1.plot.scatter(x='Estimated Speaker Pop. Size', y='Total Normalized Phoneme Diversity', logx=True);"
   ]
  },
  {
   "cell_type": "code",
   "execution_count": 7,
   "metadata": {},
   "outputs": [
    {
     "data": {
      "text/html": [
       "<div>\n",
       "<style>\n",
       "    .dataframe thead tr:only-child th {\n",
       "        text-align: right;\n",
       "    }\n",
       "\n",
       "    .dataframe thead th {\n",
       "        text-align: left;\n",
       "    }\n",
       "\n",
       "    .dataframe tbody tr th {\n",
       "        vertical-align: top;\n",
       "    }\n",
       "</style>\n",
       "<table border=\"1\" class=\"dataframe\">\n",
       "  <thead>\n",
       "    <tr style=\"text-align: right;\">\n",
       "      <th></th>\n",
       "      <th>r</th>\n",
       "      <th>p</th>\n",
       "    </tr>\n",
       "  </thead>\n",
       "  <tbody>\n",
       "    <tr>\n",
       "      <th>Population &amp; Total Normalized Phoneme Diversity</th>\n",
       "      <td>0.385</td>\n",
       "      <td>0.0</td>\n",
       "    </tr>\n",
       "  </tbody>\n",
       "</table>\n",
       "</div>"
      ],
      "text/plain": [
       "\n",
       "                                                     r    p\n",
       "Population & Total Normalized Phoneme Diversity  0.385  0.0"
      ]
     },
     "metadata": {},
     "output_type": "display_data"
    }
   ],
   "source": [
    "pearsonr(s1.assign(Population=s1['Estimated Speaker Pop. Size'].apply(pd.np.log10)),\n",
    "    'Population', 'Total Normalized Phoneme Diversity').to_frame().T.round(3)"
   ]
  },
  {
   "cell_type": "code",
   "execution_count": 8,
   "metadata": {},
   "outputs": [
    {
     "data": {
      "image/png": "[encoded data removed]",
      "text/plain": [
       "<matplotlib.figure.Figure at 0xa33bcf8>"
      ]
     },
     "metadata": {},
     "output_type": "display_data"
    }
   ],
   "source": [
    "s1.plot.scatter(x='Distance from best fit origin', y='Total Normalized Phoneme Diversity');"
   ]
  },
  {
   "cell_type": "code",
   "execution_count": 9,
   "metadata": {},
   "outputs": [
    {
     "name": "stdout",
     "output_type": "stream",
     "text": [
      "<class 'pandas.core.frame.DataFrame'>\n",
      "Index: 2679 entries, aab to zzo\n",
      "Data columns (total 7 columns):\n",
      "Name                            2679 non-null object\n",
      "latitude                        2679 non-null float64\n",
      "longitude                       2679 non-null float64\n",
      "family                          2679 non-null object\n",
      "1A Consonant Inventories        563 non-null object\n",
      "2A Vowel Quality Inventories    564 non-null object\n",
      "13A Tone                        527 non-null object\n",
      "dtypes: float64(2), object(5)\n",
      "memory usage: 167.4+ KB\n"
     ]
    }
   ],
   "source": [
    "URL = 'http://wals.info/static/download/wals-language.csv.zip'\n",
    "ARCHIVE = URL.rpartition('/')[2]\n",
    "EXTRACT = 'language.csv'\n",
    "\n",
    "INFO = ['wals_code', 'Name', 'family', 'latitude', 'longitude']\n",
    "FEAT = ['2A Vowel Quality Inventories', '1A Consonant Inventories', '13A Tone']\n",
    "\n",
    "if not os.path.exists(ARCHIVE):\n",
    "    urllib.urlretrieve(URL, ARCHIVE)\n",
    "\n",
    "with zipfile.ZipFile(ARCHIVE) as archive:\n",
    "    wf = pd.read_csv(archive.open(EXTRACT), encoding='utf-8', na_values='', keep_default_na=False,\n",
    "        index_col=INFO[0], usecols=INFO + FEAT)\n",
    "\n",
    "wf.info()\n",
    "assert wf.index.is_unique"
   ]
  },
  {
   "cell_type": "code",
   "execution_count": 10,
   "metadata": {},
   "outputs": [
    {
     "name": "stdout",
     "output_type": "stream",
     "text": [
      "<class 'pandas.core.frame.DataFrame'>\n",
      "Index: 567 entries, abi to zun\n",
      "Data columns (total 7 columns):\n",
      "Name                            567 non-null object\n",
      "latitude                        567 non-null float64\n",
      "longitude                       567 non-null float64\n",
      "family                          567 non-null object\n",
      "1A Consonant Inventories        563 non-null object\n",
      "2A Vowel Quality Inventories    564 non-null object\n",
      "13A Tone                        527 non-null object\n",
      "dtypes: float64(2), object(5)\n",
      "memory usage: 35.4+ KB\n"
     ]
    }
   ],
   "source": [
    "wf = wf.dropna(how='all', subset=FEAT)\n",
    "wf.info()"
   ]
  },
  {
   "cell_type": "code",
   "execution_count": 11,
   "metadata": {},
   "outputs": [
    {
     "name": "stdout",
     "output_type": "stream",
     "text": [
      "<class 'pandas.core.frame.DataFrame'>\n",
      "Index: 504 entries, abk to zun\n",
      "Data columns (total 18 columns):\n",
      "Language Name                         504 non-null object\n",
      "Family                                504 non-null object\n",
      "Latitude                              504 non-null float64\n",
      "Longitude                             504 non-null float64\n",
      "Normalized Vowel Diversity            504 non-null float64\n",
      "Normalized Consonant Diversity        504 non-null float64\n",
      "Normalized Tone Diversity             504 non-null float64\n",
      "Total Normalized Phoneme Diversity    504 non-null float64\n",
      "ISO codes                             504 non-null object\n",
      "Estimated Speaker Pop. Size           504 non-null int64\n",
      "Distance from best fit origin         504 non-null float64\n",
      "Name                                  504 non-null object\n",
      "latitude                              504 non-null float64\n",
      "longitude                             504 non-null float64\n",
      "family                                504 non-null object\n",
      "1A Consonant Inventories              504 non-null object\n",
      "2A Vowel Quality Inventories          504 non-null object\n",
      "13A Tone                              504 non-null object\n",
      "dtypes: float64(9), int64(1), object(8)\n",
      "memory usage: 94.8+ KB\n"
     ]
    }
   ],
   "source": [
    "df = s1.join(wf)\n",
    "df.info()"
   ]
  },
  {
   "cell_type": "code",
   "execution_count": 12,
   "metadata": {},
   "outputs": [
    {
     "data": {
      "text/html": [
       "<div>\n",
       "<style>\n",
       "    .dataframe thead tr:only-child th {\n",
       "        text-align: right;\n",
       "    }\n",
       "\n",
       "    .dataframe thead th {\n",
       "        text-align: left;\n",
       "    }\n",
       "\n",
       "    .dataframe tbody tr th {\n",
       "        vertical-align: top;\n",
       "    }\n",
       "</style>\n",
       "<table border=\"1\" class=\"dataframe\">\n",
       "  <thead>\n",
       "    <tr style=\"text-align: right;\">\n",
       "      <th></th>\n",
       "      <th>Name</th>\n",
       "      <th>latitude</th>\n",
       "      <th>longitude</th>\n",
       "      <th>family</th>\n",
       "      <th>1A Consonant Inventories</th>\n",
       "      <th>2A Vowel Quality Inventories</th>\n",
       "      <th>13A Tone</th>\n",
       "    </tr>\n",
       "  </thead>\n",
       "  <tbody>\n",
       "    <tr>\n",
       "      <th>abi</th>\n",
       "      <td>Abipón</td>\n",
       "      <td>-29.000000</td>\n",
       "      <td>-61.000000</td>\n",
       "      <td>Guaicuruan</td>\n",
       "      <td>2 Moderately small</td>\n",
       "      <td>2 Average (5-6)</td>\n",
       "      <td>NaN</td>\n",
       "    </tr>\n",
       "    <tr>\n",
       "      <th>abm</th>\n",
       "      <td>Alabama</td>\n",
       "      <td>32.333333</td>\n",
       "      <td>-87.416667</td>\n",
       "      <td>Muskogean</td>\n",
       "      <td>1 Small</td>\n",
       "      <td>1 Small (2-4)</td>\n",
       "      <td>NaN</td>\n",
       "    </tr>\n",
       "    <tr>\n",
       "      <th>ach</th>\n",
       "      <td>Aché</td>\n",
       "      <td>-25.250000</td>\n",
       "      <td>-55.166667</td>\n",
       "      <td>Tupian</td>\n",
       "      <td>1 Small</td>\n",
       "      <td>2 Average (5-6)</td>\n",
       "      <td>NaN</td>\n",
       "    </tr>\n",
       "    <tr>\n",
       "      <th>acm</th>\n",
       "      <td>Achumawi</td>\n",
       "      <td>41.500000</td>\n",
       "      <td>-121.000000</td>\n",
       "      <td>Hokan</td>\n",
       "      <td>2 Moderately small</td>\n",
       "      <td>2 Average (5-6)</td>\n",
       "      <td>2 Simple tone system</td>\n",
       "    </tr>\n",
       "    <tr>\n",
       "      <th>adz</th>\n",
       "      <td>Adzera</td>\n",
       "      <td>-6.250000</td>\n",
       "      <td>146.250000</td>\n",
       "      <td>Austronesian</td>\n",
       "      <td>2 Moderately small</td>\n",
       "      <td>1 Small (2-4)</td>\n",
       "      <td>NaN</td>\n",
       "    </tr>\n",
       "  </tbody>\n",
       "</table>\n",
       "</div>"
      ],
      "text/plain": [
       "\n",
       "         Name   latitude   longitude        family 1A Consonant Inventories  \\\n",
       "abi    Abipón -29.000000  -61.000000    Guaicuruan       2 Moderately small   \n",
       "abm   Alabama  32.333333  -87.416667     Muskogean                  1 Small   \n",
       "ach      Aché -25.250000  -55.166667        Tupian                  1 Small   \n",
       "acm  Achumawi  41.500000 -121.000000         Hokan       2 Moderately small   \n",
       "adz    Adzera  -6.250000  146.250000  Austronesian       2 Moderately small   \n",
       "\n",
       "    2A Vowel Quality Inventories              13A Tone  \n",
       "abi              2 Average (5-6)                   NaN  \n",
       "abm                1 Small (2-4)                   NaN  \n",
       "ach              2 Average (5-6)                   NaN  \n",
       "acm              2 Average (5-6)  2 Simple tone system  \n",
       "adz                1 Small (2-4)                   NaN  "
      ]
     },
     "metadata": {},
     "output_type": "display_data"
    }
   ],
   "source": [
    "wf.loc[wf.index.difference(s1.index)].head()"
   ]
  },
  {
   "cell_type": "code",
   "execution_count": 13,
   "metadata": {},
   "outputs": [
    {
     "data": {
      "text/html": [
       "<div>\n",
       "<style>\n",
       "    .dataframe thead tr:only-child th {\n",
       "        text-align: right;\n",
       "    }\n",
       "\n",
       "    .dataframe thead th {\n",
       "        text-align: left;\n",
       "    }\n",
       "\n",
       "    .dataframe tbody tr th {\n",
       "        vertical-align: top;\n",
       "    }\n",
       "</style>\n",
       "<table border=\"1\" class=\"dataframe\">\n",
       "  <thead>\n",
       "    <tr style=\"text-align: right;\">\n",
       "      <th></th>\n",
       "      <th>mismatches</th>\n",
       "    </tr>\n",
       "  </thead>\n",
       "  <tbody>\n",
       "    <tr>\n",
       "      <th>2A Vowel Quality Inventories</th>\n",
       "      <td>1</td>\n",
       "    </tr>\n",
       "    <tr>\n",
       "      <th>1A Consonant Inventories</th>\n",
       "      <td>86</td>\n",
       "    </tr>\n",
       "    <tr>\n",
       "      <th>13A Tone</th>\n",
       "      <td>0</td>\n",
       "    </tr>\n",
       "  </tbody>\n",
       "</table>\n",
       "</div>"
      ],
      "text/plain": [
       "\n",
       "                              mismatches\n",
       "2A Vowel Quality Inventories           1\n",
       "1A Consonant Inventories              86\n",
       "13A Tone                               0"
      ]
     },
     "metadata": {},
     "output_type": "display_data"
    }
   ],
   "source": [
    "COLS = list(itertools.chain.from_iterable(zip(S1_FEAT, FEAT)))\n",
    "MAP = dict(zip(S1_FEAT, FEAT))\n",
    "\n",
    "df[COLS] = df[COLS].apply(lambda x: x.astype('category', ordered=True).cat.codes)\n",
    "mism = df[S1_FEAT].rename(columns=MAP) != df[FEAT]\n",
    "mism.sum().to_frame('mismatches')"
   ]
  },
  {
   "cell_type": "code",
   "execution_count": 14,
   "metadata": {},
   "outputs": [
    {
     "data": {
      "text/html": [
       "<div>\n",
       "<style>\n",
       "    .dataframe thead tr:only-child th {\n",
       "        text-align: right;\n",
       "    }\n",
       "\n",
       "    .dataframe thead th {\n",
       "        text-align: left;\n",
       "    }\n",
       "\n",
       "    .dataframe tbody tr th {\n",
       "        vertical-align: top;\n",
       "    }\n",
       "</style>\n",
       "<table border=\"1\" class=\"dataframe\">\n",
       "  <thead>\n",
       "    <tr style=\"text-align: right;\">\n",
       "      <th></th>\n",
       "      <th>Normalized Vowel Diversity</th>\n",
       "      <th>2A Vowel Quality Inventories</th>\n",
       "      <th>Normalized Consonant Diversity</th>\n",
       "      <th>1A Consonant Inventories</th>\n",
       "      <th>Normalized Tone Diversity</th>\n",
       "      <th>13A Tone</th>\n",
       "    </tr>\n",
       "    <tr>\n",
       "      <th>WALS code</th>\n",
       "      <th></th>\n",
       "      <th></th>\n",
       "      <th></th>\n",
       "      <th></th>\n",
       "      <th></th>\n",
       "      <th></th>\n",
       "    </tr>\n",
       "  </thead>\n",
       "  <tbody>\n",
       "    <tr>\n",
       "      <th>abk</th>\n",
       "      <td>0</td>\n",
       "      <td>0</td>\n",
       "      <td>0</td>\n",
       "      <td>4</td>\n",
       "      <td>0</td>\n",
       "      <td>0</td>\n",
       "    </tr>\n",
       "    <tr>\n",
       "      <th>aco</th>\n",
       "      <td>1</td>\n",
       "      <td>1</td>\n",
       "      <td>1</td>\n",
       "      <td>4</td>\n",
       "      <td>2</td>\n",
       "      <td>2</td>\n",
       "    </tr>\n",
       "    <tr>\n",
       "      <th>aea</th>\n",
       "      <td>0</td>\n",
       "      <td>0</td>\n",
       "      <td>3</td>\n",
       "      <td>2</td>\n",
       "      <td>0</td>\n",
       "      <td>0</td>\n",
       "    </tr>\n",
       "    <tr>\n",
       "      <th>aeg</th>\n",
       "      <td>1</td>\n",
       "      <td>1</td>\n",
       "      <td>2</td>\n",
       "      <td>3</td>\n",
       "      <td>0</td>\n",
       "      <td>0</td>\n",
       "    </tr>\n",
       "    <tr>\n",
       "      <th>agh</th>\n",
       "      <td>2</td>\n",
       "      <td>2</td>\n",
       "      <td>3</td>\n",
       "      <td>2</td>\n",
       "      <td>1</td>\n",
       "      <td>1</td>\n",
       "    </tr>\n",
       "  </tbody>\n",
       "</table>\n",
       "</div>"
      ],
      "text/plain": [
       "\n",
       "           Normalized Vowel Diversity  2A Vowel Quality Inventories  \\\n",
       "WALS code                                                             \n",
       "abk                                 0                             0   \n",
       "aco                                 1                             1   \n",
       "aea                                 0                             0   \n",
       "aeg                                 1                             1   \n",
       "agh                                 2                             2   \n",
       "\n",
       "           Normalized Consonant Diversity  1A Consonant Inventories  \\\n",
       "WALS code                                                             \n",
       "abk                                     0                         4   \n",
       "aco                                     1                         4   \n",
       "aea                                     3                         2   \n",
       "aeg                                     2                         3   \n",
       "agh                                     3                         2   \n",
       "\n",
       "           Normalized Tone Diversity  13A Tone  \n",
       "WALS code                                       \n",
       "abk                                0         0  \n",
       "aco                                2         2  \n",
       "aea                                0         0  \n",
       "aeg                                0         0  \n",
       "agh                                1         1  "
      ]
     },
     "metadata": {},
     "output_type": "display_data"
    }
   ],
   "source": [
    "df.loc[mism.any(axis=1), COLS].head()"
   ]
  },
  {
   "cell_type": "code",
   "execution_count": 15,
   "metadata": {},
   "outputs": [
    {
     "data": {
      "text/plain": [
       "\n",
       "-4      1\n",
       "-3      7\n",
       "-2     10\n",
       "-1     21\n",
       " 0    418\n",
       " 1     33\n",
       " 2      9\n",
       " 3      4\n",
       " 4      1\n",
       "dtype: int64"
      ]
     },
     "metadata": {},
     "output_type": "display_data"
    }
   ],
   "source": [
    "diff = df['Normalized Consonant Diversity'] - df['1A Consonant Inventories']\n",
    "diff.value_counts().sort_index()"
   ]
  },
  {
   "cell_type": "code",
   "execution_count": 16,
   "metadata": {},
   "outputs": [
    {
     "data": {
      "image/png": "[encoded data removed]",
      "text/plain": [
       "<matplotlib.figure.Figure at 0xb4cb588>"
      ]
     },
     "metadata": {},
     "output_type": "display_data"
    }
   ],
   "source": [
    "nf = df[diff != 0].assign(diff=diff)\n",
    "nf['diff'].plot.bar(figsize=(15, 3));"
   ]
  },
  {
   "cell_type": "code",
   "execution_count": 17,
   "metadata": {},
   "outputs": [
    {
     "data": {
      "text/html": [
       "<div>\n",
       "<style>\n",
       "    .dataframe thead tr:only-child th {\n",
       "        text-align: right;\n",
       "    }\n",
       "\n",
       "    .dataframe thead th {\n",
       "        text-align: left;\n",
       "    }\n",
       "\n",
       "    .dataframe tbody tr th {\n",
       "        vertical-align: top;\n",
       "    }\n",
       "</style>\n",
       "<table border=\"1\" class=\"dataframe\">\n",
       "  <thead>\n",
       "    <tr style=\"text-align: right;\">\n",
       "      <th></th>\n",
       "      <th>r</th>\n",
       "      <th>p</th>\n",
       "    </tr>\n",
       "  </thead>\n",
       "  <tbody>\n",
       "    <tr>\n",
       "      <th>diff &amp; Estimated Speaker Pop. Size</th>\n",
       "      <td>0.076365</td>\n",
       "      <td>0.484652</td>\n",
       "    </tr>\n",
       "    <tr>\n",
       "      <th>diff &amp; Distance from best fit origin</th>\n",
       "      <td>0.417043</td>\n",
       "      <td>0.000065</td>\n",
       "    </tr>\n",
       "  </tbody>\n",
       "</table>\n",
       "</div>"
      ],
      "text/plain": [
       "\n",
       "                                             r         p\n",
       "diff & Estimated Speaker Pop. Size    0.076365  0.484652\n",
       "diff & Distance from best fit origin  0.417043  0.000065"
      ]
     },
     "metadata": {},
     "output_type": "display_data"
    }
   ],
   "source": [
    "pd.DataFrame([pearsonr(nf, 'diff', x)\n",
    "    for x in ['Estimated Speaker Pop. Size', 'Distance from best fit origin']])"
   ]
  },
  {
   "cell_type": "code",
   "execution_count": 18,
   "metadata": {},
   "outputs": [
    {
     "data": {
      "text/html": [
       "<div>\n",
       "<style>\n",
       "    .dataframe thead tr:only-child th {\n",
       "        text-align: right;\n",
       "    }\n",
       "\n",
       "    .dataframe thead th {\n",
       "        text-align: left;\n",
       "    }\n",
       "\n",
       "    .dataframe tbody tr th {\n",
       "        vertical-align: top;\n",
       "    }\n",
       "</style>\n",
       "<table border=\"1\" class=\"dataframe\">\n",
       "  <thead>\n",
       "    <tr style=\"text-align: right;\">\n",
       "      <th></th>\n",
       "      <th>r</th>\n",
       "      <th>p</th>\n",
       "    </tr>\n",
       "  </thead>\n",
       "  <tbody>\n",
       "    <tr>\n",
       "      <th>Diversity &amp; Estimated Speaker Pop. Size</th>\n",
       "      <td>0.066180</td>\n",
       "      <td>1.378965e-01</td>\n",
       "    </tr>\n",
       "    <tr>\n",
       "      <th>Diversity &amp; Distance from best fit origin</th>\n",
       "      <td>-0.588842</td>\n",
       "      <td>2.329109e-48</td>\n",
       "    </tr>\n",
       "  </tbody>\n",
       "</table>\n",
       "</div>"
      ],
      "text/plain": [
       "\n",
       "                                                  r             p\n",
       "Diversity & Estimated Speaker Pop. Size    0.066180  1.378965e-01\n",
       "Diversity & Distance from best fit origin -0.588842  2.329109e-48"
      ]
     },
     "metadata": {},
     "output_type": "display_data"
    }
   ],
   "source": [
    "nf = df[FEAT + S1_OUTC +  ['Total Normalized Phoneme Diversity']]\n",
    "nf[FEAT] = nf[FEAT].apply(scipy.stats.zscore)\n",
    "nf['Diversity'] = nf[FEAT].mean(axis=1)\n",
    "pd.DataFrame([pearsonr(nf, 'Diversity', x)\n",
    "    for x in ['Estimated Speaker Pop. Size', 'Distance from best fit origin']])"
   ]
  },
  {
   "cell_type": "code",
   "execution_count": 19,
   "metadata": {},
   "outputs": [
    {
     "data": {
      "text/html": [
       "<div>\n",
       "<style>\n",
       "    .dataframe thead tr:only-child th {\n",
       "        text-align: right;\n",
       "    }\n",
       "\n",
       "    .dataframe thead th {\n",
       "        text-align: left;\n",
       "    }\n",
       "\n",
       "    .dataframe tbody tr th {\n",
       "        vertical-align: top;\n",
       "    }\n",
       "</style>\n",
       "<table border=\"1\" class=\"dataframe\">\n",
       "  <thead>\n",
       "    <tr style=\"text-align: right;\">\n",
       "      <th></th>\n",
       "      <th>r</th>\n",
       "      <th>p</th>\n",
       "    </tr>\n",
       "  </thead>\n",
       "  <tbody>\n",
       "    <tr>\n",
       "      <th>Population &amp; Diversity</th>\n",
       "      <td>0.413791</td>\n",
       "      <td>2.873599e-22</td>\n",
       "    </tr>\n",
       "  </tbody>\n",
       "</table>\n",
       "</div>"
      ],
      "text/plain": [
       "\n",
       "                               r             p\n",
       "Population & Diversity  0.413791  2.873599e-22"
      ]
     },
     "metadata": {},
     "output_type": "display_data"
    }
   ],
   "source": [
    "pearsonr(nf.assign(Population=s1['Estimated Speaker Pop. Size'].apply(pd.np.log10)),\n",
    "    'Population', 'Diversity').to_frame().T"
   ]
  }
 ],
 "metadata": {
  "kernelspec": {
   "display_name": "Python 3",
   "language": "python",
   "name": "python3"
  },
  "language_info": {
   "codemirror_mode": {
    "name": "ipython",
    "version": 3
   },
   "file_extension": ".py",
   "mimetype": "text/x-python",
   "name": "python",
   "nbconvert_exporter": "python",
   "pygments_lexer": "ipython3",
   "version": "3.6.1"
  }
 },
 "nbformat": 4,
 "nbformat_minor": 1
}
