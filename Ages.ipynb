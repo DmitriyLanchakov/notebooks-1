{
 "cells": [
  {
   "cell_type": "markdown",
   "metadata": {},
   "source": [
    "# World population age"
   ]
  },
  {
   "cell_type": "code",
   "execution_count": 1,
   "metadata": {
    "collapsed": false
   },
   "outputs": [],
   "source": [
    "%matplotlib inline\n",
    "\n",
    "import urllib\n",
    "\n",
    "import pandas as pd\n",
    "\n",
    "URL = 'http://www.census.gov/population/international/data/idb/worldpop.php'\n",
    "POST = {'popYears': 2014, 'submit': 'Submit'}\n",
    "\n",
    "page = urllib.urlopen(URL, urllib.urlencode(POST)).read()"
   ]
  },
  {
   "cell_type": "markdown",
   "metadata": {},
   "source": [
    "## Total"
   ]
  },
  {
   "cell_type": "code",
   "execution_count": 2,
   "metadata": {
    "collapsed": false
   },
   "outputs": [
    {
     "data": {
      "text/plain": [
       "7178722893L"
      ]
     },
     "execution_count": 2,
     "metadata": {},
     "output_type": "execute_result"
    }
   ],
   "source": [
    "df = pd.read_html(page, skiprows=[1], attrs={'class': 'query_table'})[0]\n",
    "df['Age'] = df['Age'].replace('100 +', '100').astype(int)\n",
    "df = df.set_index('Age')\n",
    "\n",
    "total = df['Both Sexes Population'].sum()\n",
    "total"
   ]
  },
  {
   "cell_type": "markdown",
   "metadata": {},
   "source": [
    "## Distribution"
   ]
  },
  {
   "cell_type": "code",
   "execution_count": 3,
   "metadata": {
    "collapsed": false
   },
   "outputs": [
    {
     "data": {
      "text/html": [
       "<div>\n",
       "<table border=\"1\" class=\"dataframe\">\n",
       "  <thead>\n",
       "    <tr style=\"text-align: right;\">\n",
       "      <th></th>\n",
       "      <th>Both Sexes Population</th>\n",
       "      <th>Male Population</th>\n",
       "      <th>Female Population</th>\n",
       "      <th>Sex Ratio</th>\n",
       "    </tr>\n",
       "    <tr>\n",
       "      <th>Age</th>\n",
       "      <th></th>\n",
       "      <th></th>\n",
       "      <th></th>\n",
       "      <th></th>\n",
       "    </tr>\n",
       "  </thead>\n",
       "  <tbody>\n",
       "    <tr>\n",
       "      <th>0</th>\n",
       "      <td>130407552</td>\n",
       "      <td>67385079</td>\n",
       "      <td>63022473</td>\n",
       "      <td>106.9</td>\n",
       "    </tr>\n",
       "    <tr>\n",
       "      <th>1</th>\n",
       "      <td>128511797</td>\n",
       "      <td>66408175</td>\n",
       "      <td>62103622</td>\n",
       "      <td>106.9</td>\n",
       "    </tr>\n",
       "    <tr>\n",
       "      <th>2</th>\n",
       "      <td>127294588</td>\n",
       "      <td>65818056</td>\n",
       "      <td>61476532</td>\n",
       "      <td>107.1</td>\n",
       "    </tr>\n",
       "    <tr>\n",
       "      <th>3</th>\n",
       "      <td>126285687</td>\n",
       "      <td>65327445</td>\n",
       "      <td>60958242</td>\n",
       "      <td>107.2</td>\n",
       "    </tr>\n",
       "    <tr>\n",
       "      <th>4</th>\n",
       "      <td>125573757</td>\n",
       "      <td>64970711</td>\n",
       "      <td>60603046</td>\n",
       "      <td>107.2</td>\n",
       "    </tr>\n",
       "    <tr>\n",
       "      <th>5</th>\n",
       "      <td>125078983</td>\n",
       "      <td>64727243</td>\n",
       "      <td>60351740</td>\n",
       "      <td>107.3</td>\n",
       "    </tr>\n",
       "    <tr>\n",
       "      <th>6</th>\n",
       "      <td>124516199</td>\n",
       "      <td>64449671</td>\n",
       "      <td>60066528</td>\n",
       "      <td>107.3</td>\n",
       "    </tr>\n",
       "    <tr>\n",
       "      <th>7</th>\n",
       "      <td>123460260</td>\n",
       "      <td>63907644</td>\n",
       "      <td>59552616</td>\n",
       "      <td>107.3</td>\n",
       "    </tr>\n",
       "    <tr>\n",
       "      <th>8</th>\n",
       "      <td>122330066</td>\n",
       "      <td>63324396</td>\n",
       "      <td>59005670</td>\n",
       "      <td>107.3</td>\n",
       "    </tr>\n",
       "    <tr>\n",
       "      <th>9</th>\n",
       "      <td>121457909</td>\n",
       "      <td>62878375</td>\n",
       "      <td>58579534</td>\n",
       "      <td>107.3</td>\n",
       "    </tr>\n",
       "    <tr>\n",
       "      <th>10</th>\n",
       "      <td>120724481</td>\n",
       "      <td>62497597</td>\n",
       "      <td>58226884</td>\n",
       "      <td>107.3</td>\n",
       "    </tr>\n",
       "    <tr>\n",
       "      <th>11</th>\n",
       "      <td>119917816</td>\n",
       "      <td>62080413</td>\n",
       "      <td>57837403</td>\n",
       "      <td>107.3</td>\n",
       "    </tr>\n",
       "    <tr>\n",
       "      <th>12</th>\n",
       "      <td>119390235</td>\n",
       "      <td>61808619</td>\n",
       "      <td>57581616</td>\n",
       "      <td>107.3</td>\n",
       "    </tr>\n",
       "    <tr>\n",
       "      <th>13</th>\n",
       "      <td>119185722</td>\n",
       "      <td>61708381</td>\n",
       "      <td>57477341</td>\n",
       "      <td>107.4</td>\n",
       "    </tr>\n",
       "    <tr>\n",
       "      <th>14</th>\n",
       "      <td>118882912</td>\n",
       "      <td>61537813</td>\n",
       "      <td>57345099</td>\n",
       "      <td>107.3</td>\n",
       "    </tr>\n",
       "    <tr>\n",
       "      <th>15</th>\n",
       "      <td>118566681</td>\n",
       "      <td>61354441</td>\n",
       "      <td>57212240</td>\n",
       "      <td>107.2</td>\n",
       "    </tr>\n",
       "    <tr>\n",
       "      <th>16</th>\n",
       "      <td>118604089</td>\n",
       "      <td>61322165</td>\n",
       "      <td>57281924</td>\n",
       "      <td>107.1</td>\n",
       "    </tr>\n",
       "    <tr>\n",
       "      <th>17</th>\n",
       "      <td>118650190</td>\n",
       "      <td>61291343</td>\n",
       "      <td>57358847</td>\n",
       "      <td>106.9</td>\n",
       "    </tr>\n",
       "    <tr>\n",
       "      <th>18</th>\n",
       "      <td>118908860</td>\n",
       "      <td>61382119</td>\n",
       "      <td>57526741</td>\n",
       "      <td>106.7</td>\n",
       "    </tr>\n",
       "    <tr>\n",
       "      <th>19</th>\n",
       "      <td>119201169</td>\n",
       "      <td>61466558</td>\n",
       "      <td>57734611</td>\n",
       "      <td>106.5</td>\n",
       "    </tr>\n",
       "    <tr>\n",
       "      <th>20</th>\n",
       "      <td>118745140</td>\n",
       "      <td>61125754</td>\n",
       "      <td>57619386</td>\n",
       "      <td>106.1</td>\n",
       "    </tr>\n",
       "    <tr>\n",
       "      <th>21</th>\n",
       "      <td>118200584</td>\n",
       "      <td>60762958</td>\n",
       "      <td>57437626</td>\n",
       "      <td>105.8</td>\n",
       "    </tr>\n",
       "    <tr>\n",
       "      <th>22</th>\n",
       "      <td>118401081</td>\n",
       "      <td>60791499</td>\n",
       "      <td>57609582</td>\n",
       "      <td>105.5</td>\n",
       "    </tr>\n",
       "    <tr>\n",
       "      <th>23</th>\n",
       "      <td>118887620</td>\n",
       "      <td>60938080</td>\n",
       "      <td>57949540</td>\n",
       "      <td>105.2</td>\n",
       "    </tr>\n",
       "    <tr>\n",
       "      <th>24</th>\n",
       "      <td>125754715</td>\n",
       "      <td>64000504</td>\n",
       "      <td>61754211</td>\n",
       "      <td>103.6</td>\n",
       "    </tr>\n",
       "    <tr>\n",
       "      <th>25</th>\n",
       "      <td>121408038</td>\n",
       "      <td>61547370</td>\n",
       "      <td>59860668</td>\n",
       "      <td>102.8</td>\n",
       "    </tr>\n",
       "    <tr>\n",
       "      <th>26</th>\n",
       "      <td>118936690</td>\n",
       "      <td>60673958</td>\n",
       "      <td>58262732</td>\n",
       "      <td>104.1</td>\n",
       "    </tr>\n",
       "    <tr>\n",
       "      <th>27</th>\n",
       "      <td>119252715</td>\n",
       "      <td>60781301</td>\n",
       "      <td>58471414</td>\n",
       "      <td>104.0</td>\n",
       "    </tr>\n",
       "    <tr>\n",
       "      <th>28</th>\n",
       "      <td>114027101</td>\n",
       "      <td>58061599</td>\n",
       "      <td>55965502</td>\n",
       "      <td>103.7</td>\n",
       "    </tr>\n",
       "    <tr>\n",
       "      <th>29</th>\n",
       "      <td>110809053</td>\n",
       "      <td>56385474</td>\n",
       "      <td>54423579</td>\n",
       "      <td>103.6</td>\n",
       "    </tr>\n",
       "  </tbody>\n",
       "</table>\n",
       "</div>"
      ],
      "text/plain": [
       "     Both Sexes Population  Male Population  Female Population  Sex Ratio\n",
       "Age                                                                      \n",
       "0                130407552         67385079           63022473      106.9\n",
       "1                128511797         66408175           62103622      106.9\n",
       "2                127294588         65818056           61476532      107.1\n",
       "3                126285687         65327445           60958242      107.2\n",
       "4                125573757         64970711           60603046      107.2\n",
       "5                125078983         64727243           60351740      107.3\n",
       "6                124516199         64449671           60066528      107.3\n",
       "7                123460260         63907644           59552616      107.3\n",
       "8                122330066         63324396           59005670      107.3\n",
       "9                121457909         62878375           58579534      107.3\n",
       "10               120724481         62497597           58226884      107.3\n",
       "11               119917816         62080413           57837403      107.3\n",
       "12               119390235         61808619           57581616      107.3\n",
       "13               119185722         61708381           57477341      107.4\n",
       "14               118882912         61537813           57345099      107.3\n",
       "15               118566681         61354441           57212240      107.2\n",
       "16               118604089         61322165           57281924      107.1\n",
       "17               118650190         61291343           57358847      106.9\n",
       "18               118908860         61382119           57526741      106.7\n",
       "19               119201169         61466558           57734611      106.5\n",
       "20               118745140         61125754           57619386      106.1\n",
       "21               118200584         60762958           57437626      105.8\n",
       "22               118401081         60791499           57609582      105.5\n",
       "23               118887620         60938080           57949540      105.2\n",
       "24               125754715         64000504           61754211      103.6\n",
       "25               121408038         61547370           59860668      102.8\n",
       "26               118936690         60673958           58262732      104.1\n",
       "27               119252715         60781301           58471414      104.0\n",
       "28               114027101         58061599           55965502      103.7\n",
       "29               110809053         56385474           54423579      103.6"
      ]
     },
     "execution_count": 3,
     "metadata": {},
     "output_type": "execute_result"
    },
    {
     "data": {
      "image/png": "[encoded data removed]",
      "text/plain": [
       "<matplotlib.figure.Figure at 0x428f550>"
      ]
     },
     "metadata": {},
     "output_type": "display_data"
    }
   ],
   "source": [
    "df[['Both Sexes Population', 'Male Population', 'Female Population']].plot()\n",
    "df.head(30)"
   ]
  },
  {
   "cell_type": "markdown",
   "metadata": {},
   "source": [
    "## Mode (top 10)"
   ]
  },
  {
   "cell_type": "code",
   "execution_count": 4,
   "metadata": {
    "collapsed": false
   },
   "outputs": [
    {
     "data": {
      "text/html": [
       "<div>\n",
       "<table border=\"1\" class=\"dataframe\">\n",
       "  <thead>\n",
       "    <tr style=\"text-align: right;\">\n",
       "      <th></th>\n",
       "      <th>Both Sexes Population</th>\n",
       "      <th>Male Population</th>\n",
       "      <th>Female Population</th>\n",
       "      <th>Sex Ratio</th>\n",
       "    </tr>\n",
       "    <tr>\n",
       "      <th>Age</th>\n",
       "      <th></th>\n",
       "      <th></th>\n",
       "      <th></th>\n",
       "      <th></th>\n",
       "    </tr>\n",
       "  </thead>\n",
       "  <tbody>\n",
       "    <tr>\n",
       "      <th>0</th>\n",
       "      <td>130407552</td>\n",
       "      <td>67385079</td>\n",
       "      <td>63022473</td>\n",
       "      <td>106.9</td>\n",
       "    </tr>\n",
       "    <tr>\n",
       "      <th>1</th>\n",
       "      <td>128511797</td>\n",
       "      <td>66408175</td>\n",
       "      <td>62103622</td>\n",
       "      <td>106.9</td>\n",
       "    </tr>\n",
       "    <tr>\n",
       "      <th>2</th>\n",
       "      <td>127294588</td>\n",
       "      <td>65818056</td>\n",
       "      <td>61476532</td>\n",
       "      <td>107.1</td>\n",
       "    </tr>\n",
       "    <tr>\n",
       "      <th>3</th>\n",
       "      <td>126285687</td>\n",
       "      <td>65327445</td>\n",
       "      <td>60958242</td>\n",
       "      <td>107.2</td>\n",
       "    </tr>\n",
       "    <tr>\n",
       "      <th>24</th>\n",
       "      <td>125754715</td>\n",
       "      <td>64000504</td>\n",
       "      <td>61754211</td>\n",
       "      <td>103.6</td>\n",
       "    </tr>\n",
       "    <tr>\n",
       "      <th>4</th>\n",
       "      <td>125573757</td>\n",
       "      <td>64970711</td>\n",
       "      <td>60603046</td>\n",
       "      <td>107.2</td>\n",
       "    </tr>\n",
       "    <tr>\n",
       "      <th>5</th>\n",
       "      <td>125078983</td>\n",
       "      <td>64727243</td>\n",
       "      <td>60351740</td>\n",
       "      <td>107.3</td>\n",
       "    </tr>\n",
       "    <tr>\n",
       "      <th>6</th>\n",
       "      <td>124516199</td>\n",
       "      <td>64449671</td>\n",
       "      <td>60066528</td>\n",
       "      <td>107.3</td>\n",
       "    </tr>\n",
       "    <tr>\n",
       "      <th>7</th>\n",
       "      <td>123460260</td>\n",
       "      <td>63907644</td>\n",
       "      <td>59552616</td>\n",
       "      <td>107.3</td>\n",
       "    </tr>\n",
       "    <tr>\n",
       "      <th>8</th>\n",
       "      <td>122330066</td>\n",
       "      <td>63324396</td>\n",
       "      <td>59005670</td>\n",
       "      <td>107.3</td>\n",
       "    </tr>\n",
       "  </tbody>\n",
       "</table>\n",
       "</div>"
      ],
      "text/plain": [
       "     Both Sexes Population  Male Population  Female Population  Sex Ratio\n",
       "Age                                                                      \n",
       "0                130407552         67385079           63022473      106.9\n",
       "1                128511797         66408175           62103622      106.9\n",
       "2                127294588         65818056           61476532      107.1\n",
       "3                126285687         65327445           60958242      107.2\n",
       "24               125754715         64000504           61754211      103.6\n",
       "4                125573757         64970711           60603046      107.2\n",
       "5                125078983         64727243           60351740      107.3\n",
       "6                124516199         64449671           60066528      107.3\n",
       "7                123460260         63907644           59552616      107.3\n",
       "8                122330066         63324396           59005670      107.3"
      ]
     },
     "execution_count": 4,
     "metadata": {},
     "output_type": "execute_result"
    }
   ],
   "source": [
    "df.sort_values('Both Sexes Population', ascending=False).head(10)"
   ]
  },
  {
   "cell_type": "markdown",
   "metadata": {},
   "source": [
    "## Mean"
   ]
  },
  {
   "cell_type": "code",
   "execution_count": 5,
   "metadata": {
    "collapsed": false
   },
   "outputs": [
    {
     "data": {
      "text/plain": [
       "31.802015445896945"
      ]
     },
     "execution_count": 5,
     "metadata": {},
     "output_type": "execute_result"
    }
   ],
   "source": [
    "(df.index.values * df['Both Sexes Population']).sum() / float(total)"
   ]
  },
  {
   "cell_type": "markdown",
   "metadata": {},
   "source": [
    "## Median"
   ]
  },
  {
   "cell_type": "code",
   "execution_count": 6,
   "metadata": {
    "collapsed": false
   },
   "outputs": [
    {
     "data": {
      "text/html": [
       "<div>\n",
       "<table border=\"1\" class=\"dataframe\">\n",
       "  <thead>\n",
       "    <tr style=\"text-align: right;\">\n",
       "      <th></th>\n",
       "      <th>Both Sexes Population</th>\n",
       "      <th>Male Population</th>\n",
       "      <th>Female Population</th>\n",
       "      <th>Sex Ratio</th>\n",
       "    </tr>\n",
       "    <tr>\n",
       "      <th>Age</th>\n",
       "      <th></th>\n",
       "      <th></th>\n",
       "      <th></th>\n",
       "      <th></th>\n",
       "    </tr>\n",
       "  </thead>\n",
       "  <tbody>\n",
       "    <tr>\n",
       "      <th>29</th>\n",
       "      <td>110809053</td>\n",
       "      <td>56385474</td>\n",
       "      <td>54423579</td>\n",
       "      <td>103.6</td>\n",
       "    </tr>\n",
       "  </tbody>\n",
       "</table>\n",
       "</div>"
      ],
      "text/plain": [
       "     Both Sexes Population  Male Population  Female Population  Sex Ratio\n",
       "Age                                                                      \n",
       "29               110809053         56385474           54423579      103.6"
      ]
     },
     "execution_count": 6,
     "metadata": {},
     "output_type": "execute_result"
    }
   ],
   "source": [
    "df[df['Both Sexes Population'].cumsum() >= total / 2][:1]"
   ]
  }
 ],
 "metadata": {
  "kernelspec": {
   "display_name": "Python 2",
   "language": "python",
   "name": "python2"
  },
  "language_info": {
   "codemirror_mode": {
    "name": "ipython",
    "version": 2
   },
   "file_extension": ".py",
   "mimetype": "text/x-python",
   "name": "python",
   "nbconvert_exporter": "python",
   "pygments_lexer": "ipython2",
   "version": "2.7.11"
  }
 },
 "nbformat": 4,
 "nbformat_minor": 0
}
