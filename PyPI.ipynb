{
 "cells": [
  {
   "cell_type": "code",
   "execution_count": 1,
   "metadata": {
    "collapsed": true
   },
   "outputs": [],
   "source": [
    "# https://bigquery.cloud.google.com/dataset/the-psf:pypi\n",
    "\n",
    "%matplotlib inline\n",
    "\n",
    "import os\n",
    "import datetime\n",
    "import functools\n",
    "\n",
    "import pandas as pd\n",
    "import pandas_gbq\n",
    "\n",
    "PROJECT_ID = 'scripting-148608'\n",
    "\n",
    "def get_credentials(scopes, secrets='~/client_secrets.json', storage='~/storage.json'):\n",
    "    from oauth2client import file, client, tools\n",
    "    store = file.Storage(os.path.expanduser(storage))\n",
    "    creds = store.get()\n",
    "    if creds is None or creds.invalid:\n",
    "        flow = client.flow_from_clientsecrets(os.path.expanduser(secrets), scopes)\n",
    "        creds = tools.run_flow(flow, store, tools.argparser.parse_args([]))\n",
    "    return creds\n",
    "\n",
    "class GbqConnector(pandas_gbq.gbq.GbqConnector):\n",
    "\n",
    "    def get_user_account_credentials(self):\n",
    "        return get_credentials(self.scope)\n",
    "\n",
    "pandas_gbq.gbq.GbqConnector = GbqConnector  # monkey patch\n",
    "\n",
    "read_gbq = functools.partial(pd.io.gbq.read_gbq, dialect='standard', project_id=PROJECT_ID)"
   ]
  },
  {
   "cell_type": "code",
   "execution_count": 2,
   "metadata": {},
   "outputs": [
    {
     "name": "stdout",
     "output_type": "stream",
     "text": [
      "Requesting query... ok.\n",
      "Query running...\n",
      "  Elapsed 14.15 s. Waiting...\n",
      "  Elapsed 24.73 s. Waiting...\n",
      "  Elapsed 35.17 s. Waiting...\n",
      "  Elapsed 45.77 s. Waiting...\n",
      "Query done.\n",
      "Processed: 331.3 GB\n",
      "\n",
      "Retrieving results...\n",
      "  Got page: 1; 62% done. Elapsed 56.82 s.\n",
      "  Got page: 2; 100% done. Elapsed 68.84 s.\n",
      "Got 63057 rows.\n",
      "\n",
      "Total time taken 70.57 s.\n",
      "Finished at 2017-06-03 14:06:02.\n",
      "<class 'pandas.core.frame.DataFrame'>\n",
      "RangeIndex: 63057 entries, 0 to 63056\n",
      "Data columns (total 9 columns):\n",
      "year         63057 non-null int64\n",
      "month        63057 non-null int64\n",
      "project      63057 non-null object\n",
      "version      63057 non-null object\n",
      "type         63057 non-null object\n",
      "country      60057 non-null object\n",
      "python       19885 non-null float64\n",
      "system       17706 non-null object\n",
      "downloads    63057 non-null int64\n",
      "dtypes: float64(1), int64(3), object(5)\n",
      "memory usage: 4.3+ MB\n"
     ]
    }
   ],
   "source": [
    "RESULT, START, END = 'pypi.csv', '20160601', '20170531'\n",
    "\n",
    "PROJECTS = (\n",
    "    'graphviz', 'features', 'concepts', 'bitsets', 'fileconfig',\n",
    "    'gsheets', 'latexpages', 'dmengine', 'current',\n",
    ")\n",
    "\n",
    "QUERY ='''SELECT\n",
    "  EXTRACT(YEAR FROM timestamp) AS year, EXTRACT(MONTH FROM timestamp) AS month,\n",
    "  file.project AS project, file.version AS version, file.type AS type,\n",
    "  country_code AS country,\n",
    "  REGEXP_EXTRACT(details.python, r'^([^\\.]+\\.[^\\.]+)') AS python,\n",
    "  details.system.name AS system,\n",
    "  COUNT(*) AS downloads\n",
    "FROM `the-psf.pypi.downloads*`\n",
    "WHERE _TABLE_SUFFIX BETWEEN '%s' AND '%s' AND file.project IN %r\n",
    "GROUP BY year, month, project, version, type, country, python, system''' % (START, END, PROJECTS)\n",
    "\n",
    "if not os.path.exists(RESULT):\n",
    "    _df = read_gbq(QUERY)\n",
    "    _df.to_csv(RESULT, index=False, encoding='utf-8')\n",
    "\n",
    "INDEX = ['year', 'month', 'project', 'version', 'type', 'country', 'python', 'system']\n",
    "ASC = [i not in ('year', 'month') for i in INDEX]\n",
    "    \n",
    "_df = pd.read_csv(RESULT, encoding='utf-8')\\\n",
    "    .sort_values(by=INDEX, ascending=ASC).reset_index(drop=True)\n",
    "_df.info()"
   ]
  },
  {
   "cell_type": "code",
   "execution_count": 3,
   "metadata": {},
   "outputs": [
    {
     "data": {
      "text/html": [
       "<div>\n",
       "<style>\n",
       "    .dataframe thead tr:only-child th {\n",
       "        text-align: right;\n",
       "    }\n",
       "\n",
       "    .dataframe thead th {\n",
       "        text-align: left;\n",
       "    }\n",
       "\n",
       "    .dataframe tbody tr th {\n",
       "        vertical-align: top;\n",
       "    }\n",
       "</style>\n",
       "<table border=\"1\" class=\"dataframe\">\n",
       "  <thead>\n",
       "    <tr style=\"text-align: right;\">\n",
       "      <th></th>\n",
       "      <th>year</th>\n",
       "      <th>month</th>\n",
       "      <th>project</th>\n",
       "      <th>version</th>\n",
       "      <th>type</th>\n",
       "      <th>country</th>\n",
       "      <th>python</th>\n",
       "      <th>system</th>\n",
       "      <th>downloads</th>\n",
       "    </tr>\n",
       "  </thead>\n",
       "  <tbody>\n",
       "    <tr>\n",
       "      <th>0</th>\n",
       "      <td>2017</td>\n",
       "      <td>5</td>\n",
       "      <td>bitsets</td>\n",
       "      <td>0.1</td>\n",
       "      <td>sdist</td>\n",
       "      <td>BE</td>\n",
       "      <td>N/A</td>\n",
       "      <td>N/A</td>\n",
       "      <td>1</td>\n",
       "    </tr>\n",
       "    <tr>\n",
       "      <th>1</th>\n",
       "      <td>2017</td>\n",
       "      <td>5</td>\n",
       "      <td>bitsets</td>\n",
       "      <td>0.1</td>\n",
       "      <td>sdist</td>\n",
       "      <td>CA</td>\n",
       "      <td>N/A</td>\n",
       "      <td>N/A</td>\n",
       "      <td>2</td>\n",
       "    </tr>\n",
       "    <tr>\n",
       "      <th>2</th>\n",
       "      <td>2017</td>\n",
       "      <td>5</td>\n",
       "      <td>bitsets</td>\n",
       "      <td>0.1</td>\n",
       "      <td>sdist</td>\n",
       "      <td>CN</td>\n",
       "      <td>N/A</td>\n",
       "      <td>N/A</td>\n",
       "      <td>9</td>\n",
       "    </tr>\n",
       "    <tr>\n",
       "      <th>3</th>\n",
       "      <td>2017</td>\n",
       "      <td>5</td>\n",
       "      <td>bitsets</td>\n",
       "      <td>0.1</td>\n",
       "      <td>sdist</td>\n",
       "      <td>DE</td>\n",
       "      <td>N/A</td>\n",
       "      <td>N/A</td>\n",
       "      <td>1</td>\n",
       "    </tr>\n",
       "    <tr>\n",
       "      <th>4</th>\n",
       "      <td>2017</td>\n",
       "      <td>5</td>\n",
       "      <td>bitsets</td>\n",
       "      <td>0.1</td>\n",
       "      <td>sdist</td>\n",
       "      <td>DK</td>\n",
       "      <td>N/A</td>\n",
       "      <td>N/A</td>\n",
       "      <td>2</td>\n",
       "    </tr>\n",
       "  </tbody>\n",
       "</table>\n",
       "</div>"
      ],
      "text/plain": [
       "   year  month  project version   type country python system  downloads\n",
       "0  2017      5  bitsets     0.1  sdist      BE    N/A    N/A          1\n",
       "1  2017      5  bitsets     0.1  sdist      CA    N/A    N/A          2\n",
       "2  2017      5  bitsets     0.1  sdist      CN    N/A    N/A          9\n",
       "3  2017      5  bitsets     0.1  sdist      DE    N/A    N/A          1\n",
       "4  2017      5  bitsets     0.1  sdist      DK    N/A    N/A          2"
      ]
     },
     "execution_count": 3,
     "metadata": {},
     "output_type": "execute_result"
    }
   ],
   "source": [
    "df = _df.fillna('N/A')\n",
    "df.head()"
   ]
  },
  {
   "cell_type": "code",
   "execution_count": 4,
   "metadata": {},
   "outputs": [
    {
     "data": {
      "text/html": [
       "<div>\n",
       "<style>\n",
       "    .dataframe thead tr:only-child th {\n",
       "        text-align: right;\n",
       "    }\n",
       "\n",
       "    .dataframe thead th {\n",
       "        text-align: left;\n",
       "    }\n",
       "\n",
       "    .dataframe tbody tr th {\n",
       "        vertical-align: top;\n",
       "    }\n",
       "</style>\n",
       "<table border=\"1\" class=\"dataframe\">\n",
       "  <thead>\n",
       "    <tr>\n",
       "      <th></th>\n",
       "      <th></th>\n",
       "      <th colspan=\"9\" halign=\"left\">downloads</th>\n",
       "    </tr>\n",
       "    <tr>\n",
       "      <th></th>\n",
       "      <th>project</th>\n",
       "      <th>bitsets</th>\n",
       "      <th>concepts</th>\n",
       "      <th>current</th>\n",
       "      <th>dmengine</th>\n",
       "      <th>features</th>\n",
       "      <th>fileconfig</th>\n",
       "      <th>graphviz</th>\n",
       "      <th>gsheets</th>\n",
       "      <th>latexpages</th>\n",
       "    </tr>\n",
       "    <tr>\n",
       "      <th>year</th>\n",
       "      <th>month</th>\n",
       "      <th></th>\n",
       "      <th></th>\n",
       "      <th></th>\n",
       "      <th></th>\n",
       "      <th></th>\n",
       "      <th></th>\n",
       "      <th></th>\n",
       "      <th></th>\n",
       "      <th></th>\n",
       "    </tr>\n",
       "  </thead>\n",
       "  <tbody>\n",
       "    <tr>\n",
       "      <th rowspan=\"7\" valign=\"top\">2016</th>\n",
       "      <th>6</th>\n",
       "      <td>3805</td>\n",
       "      <td>3799</td>\n",
       "      <td>654</td>\n",
       "      <td>1244</td>\n",
       "      <td>2286</td>\n",
       "      <td>1360</td>\n",
       "      <td>23462</td>\n",
       "      <td>0</td>\n",
       "      <td>2327</td>\n",
       "    </tr>\n",
       "    <tr>\n",
       "      <th>7</th>\n",
       "      <td>3905</td>\n",
       "      <td>3999</td>\n",
       "      <td>974</td>\n",
       "      <td>1413</td>\n",
       "      <td>2407</td>\n",
       "      <td>1532</td>\n",
       "      <td>27466</td>\n",
       "      <td>0</td>\n",
       "      <td>2175</td>\n",
       "    </tr>\n",
       "    <tr>\n",
       "      <th>8</th>\n",
       "      <td>4494</td>\n",
       "      <td>4505</td>\n",
       "      <td>1099</td>\n",
       "      <td>1737</td>\n",
       "      <td>2790</td>\n",
       "      <td>1751</td>\n",
       "      <td>27825</td>\n",
       "      <td>0</td>\n",
       "      <td>2459</td>\n",
       "    </tr>\n",
       "    <tr>\n",
       "      <th>9</th>\n",
       "      <td>3989</td>\n",
       "      <td>4158</td>\n",
       "      <td>1169</td>\n",
       "      <td>1658</td>\n",
       "      <td>2559</td>\n",
       "      <td>1636</td>\n",
       "      <td>34277</td>\n",
       "      <td>0</td>\n",
       "      <td>4306</td>\n",
       "    </tr>\n",
       "    <tr>\n",
       "      <th>10</th>\n",
       "      <td>3156</td>\n",
       "      <td>3002</td>\n",
       "      <td>776</td>\n",
       "      <td>1159</td>\n",
       "      <td>1912</td>\n",
       "      <td>1227</td>\n",
       "      <td>31108</td>\n",
       "      <td>0</td>\n",
       "      <td>1843</td>\n",
       "    </tr>\n",
       "    <tr>\n",
       "      <th>11</th>\n",
       "      <td>3376</td>\n",
       "      <td>3505</td>\n",
       "      <td>622</td>\n",
       "      <td>1133</td>\n",
       "      <td>2040</td>\n",
       "      <td>1188</td>\n",
       "      <td>32904</td>\n",
       "      <td>526</td>\n",
       "      <td>1971</td>\n",
       "    </tr>\n",
       "    <tr>\n",
       "      <th>12</th>\n",
       "      <td>2811</td>\n",
       "      <td>2873</td>\n",
       "      <td>505</td>\n",
       "      <td>931</td>\n",
       "      <td>1698</td>\n",
       "      <td>1011</td>\n",
       "      <td>36357</td>\n",
       "      <td>278</td>\n",
       "      <td>1703</td>\n",
       "    </tr>\n",
       "    <tr>\n",
       "      <th rowspan=\"5\" valign=\"top\">2017</th>\n",
       "      <th>1</th>\n",
       "      <td>3145</td>\n",
       "      <td>3099</td>\n",
       "      <td>532</td>\n",
       "      <td>866</td>\n",
       "      <td>1571</td>\n",
       "      <td>940</td>\n",
       "      <td>47077</td>\n",
       "      <td>198</td>\n",
       "      <td>1464</td>\n",
       "    </tr>\n",
       "    <tr>\n",
       "      <th>2</th>\n",
       "      <td>2981</td>\n",
       "      <td>3072</td>\n",
       "      <td>568</td>\n",
       "      <td>1005</td>\n",
       "      <td>1760</td>\n",
       "      <td>1077</td>\n",
       "      <td>47283</td>\n",
       "      <td>226</td>\n",
       "      <td>1854</td>\n",
       "    </tr>\n",
       "    <tr>\n",
       "      <th>3</th>\n",
       "      <td>3649</td>\n",
       "      <td>3889</td>\n",
       "      <td>675</td>\n",
       "      <td>1162</td>\n",
       "      <td>2063</td>\n",
       "      <td>1202</td>\n",
       "      <td>59031</td>\n",
       "      <td>967</td>\n",
       "      <td>3395</td>\n",
       "    </tr>\n",
       "    <tr>\n",
       "      <th>4</th>\n",
       "      <td>4387</td>\n",
       "      <td>4434</td>\n",
       "      <td>850</td>\n",
       "      <td>793</td>\n",
       "      <td>2544</td>\n",
       "      <td>1510</td>\n",
       "      <td>55757</td>\n",
       "      <td>389</td>\n",
       "      <td>1699</td>\n",
       "    </tr>\n",
       "    <tr>\n",
       "      <th>5</th>\n",
       "      <td>2946</td>\n",
       "      <td>2632</td>\n",
       "      <td>1140</td>\n",
       "      <td>1326</td>\n",
       "      <td>2470</td>\n",
       "      <td>2810</td>\n",
       "      <td>60170</td>\n",
       "      <td>268</td>\n",
       "      <td>1351</td>\n",
       "    </tr>\n",
       "  </tbody>\n",
       "</table>\n",
       "</div>"
      ],
      "text/plain": [
       "           downloads                                                         \\\n",
       "project      bitsets concepts current dmengine features fileconfig graphviz   \n",
       "year month                                                                    \n",
       "2016 6          3805     3799     654     1244     2286       1360    23462   \n",
       "     7          3905     3999     974     1413     2407       1532    27466   \n",
       "     8          4494     4505    1099     1737     2790       1751    27825   \n",
       "     9          3989     4158    1169     1658     2559       1636    34277   \n",
       "     10         3156     3002     776     1159     1912       1227    31108   \n",
       "     11         3376     3505     622     1133     2040       1188    32904   \n",
       "     12         2811     2873     505      931     1698       1011    36357   \n",
       "2017 1          3145     3099     532      866     1571        940    47077   \n",
       "     2          2981     3072     568     1005     1760       1077    47283   \n",
       "     3          3649     3889     675     1162     2063       1202    59031   \n",
       "     4          4387     4434     850      793     2544       1510    55757   \n",
       "     5          2946     2632    1140     1326     2470       2810    60170   \n",
       "\n",
       "                               \n",
       "project    gsheets latexpages  \n",
       "year month                     \n",
       "2016 6           0       2327  \n",
       "     7           0       2175  \n",
       "     8           0       2459  \n",
       "     9           0       4306  \n",
       "     10          0       1843  \n",
       "     11        526       1971  \n",
       "     12        278       1703  \n",
       "2017 1         198       1464  \n",
       "     2         226       1854  \n",
       "     3         967       3395  \n",
       "     4         389       1699  \n",
       "     5         268       1351  "
      ]
     },
     "execution_count": 4,
     "metadata": {},
     "output_type": "execute_result"
    }
   ],
   "source": [
    "df.groupby(['year', 'month', 'project']).sum().unstack().fillna(0, downcast='infer')"
   ]
  },
  {
   "cell_type": "code",
   "execution_count": 5,
   "metadata": {},
   "outputs": [
    {
     "data": {
      "image/png": "[encoded data removed]",
      "text/plain": [
       "<matplotlib.figure.Figure at 0x532c320>"
      ]
     },
     "metadata": {},
     "output_type": "display_data"
    }
   ],
   "source": [
    "df.groupby('python')['downloads'].sum()\\\n",
    "    .sort_values(ascending=False)[:8].plot.bar(figsize=(12, 4));"
   ]
  },
  {
   "cell_type": "code",
   "execution_count": 6,
   "metadata": {},
   "outputs": [
    {
     "data": {
      "text/html": [
       "<style  type=\"text/css\" >\n",
       "</style>  \n",
       "<table id=\"T_6\" > \n",
       "<thead>    <tr> \n",
       "        <th class=\"blank level0\" ></th> \n",
       "        <th class=\"col_heading level0 col0\" >downloads</th> \n",
       "    </tr>    <tr> \n",
       "        <th class=\"index_name level0\" >python</th> \n",
       "        <th class=\"blank\" ></th> \n",
       "    </tr></thead> \n",
       "<tbody>    <tr> \n",
       "        <th id=\"T_6\" class=\"row_heading level0 row0\" >2.7</th> \n",
       "        <td id=\"T_6row0_col0\" class=\"data row0 col0\" >41.71%</td> \n",
       "    </tr>    <tr> \n",
       "        <th id=\"T_6\" class=\"row_heading level0 row1\" >N/A</th> \n",
       "        <td id=\"T_6row1_col0\" class=\"data row1 col0\" >36.35%</td> \n",
       "    </tr>    <tr> \n",
       "        <th id=\"T_6\" class=\"row_heading level0 row2\" >3.5</th> \n",
       "        <td id=\"T_6row2_col0\" class=\"data row2 col0\" >12.08%</td> \n",
       "    </tr>    <tr> \n",
       "        <th id=\"T_6\" class=\"row_heading level0 row3\" >3.4</th> \n",
       "        <td id=\"T_6row3_col0\" class=\"data row3 col0\" >5.86%</td> \n",
       "    </tr>    <tr> \n",
       "        <th id=\"T_6\" class=\"row_heading level0 row4\" >3.6</th> \n",
       "        <td id=\"T_6row4_col0\" class=\"data row4 col0\" >2.99%</td> \n",
       "    </tr>    <tr> \n",
       "        <th id=\"T_6\" class=\"row_heading level0 row5\" >3.3</th> \n",
       "        <td id=\"T_6row5_col0\" class=\"data row5 col0\" >0.53%</td> \n",
       "    </tr>    <tr> \n",
       "        <th id=\"T_6\" class=\"row_heading level0 row6\" >2.6</th> \n",
       "        <td id=\"T_6row6_col0\" class=\"data row6 col0\" >0.39%</td> \n",
       "    </tr>    <tr> \n",
       "        <th id=\"T_6\" class=\"row_heading level0 row7\" >1.17</th> \n",
       "        <td id=\"T_6row7_col0\" class=\"data row7 col0\" >0.04%</td> \n",
       "    </tr>    <tr> \n",
       "        <th id=\"T_6\" class=\"row_heading level0 row8\" >3.7</th> \n",
       "        <td id=\"T_6row8_col0\" class=\"data row8 col0\" >0.04%</td> \n",
       "    </tr>    <tr> \n",
       "        <th id=\"T_6\" class=\"row_heading level0 row9\" >3.2</th> \n",
       "        <td id=\"T_6row9_col0\" class=\"data row9 col0\" >0.01%</td> \n",
       "    </tr>    <tr> \n",
       "        <th id=\"T_6\" class=\"row_heading level0 row10\" >2.5</th> \n",
       "        <td id=\"T_6row10_col0\" class=\"data row10 col0\" >0.00%</td> \n",
       "    </tr>    <tr> \n",
       "        <th id=\"T_6\" class=\"row_heading level0 row11\" >2.1</th> \n",
       "        <td id=\"T_6row11_col0\" class=\"data row11 col0\" >0.00%</td> \n",
       "    </tr></tbody> \n",
       "</table> "
      ],
      "text/plain": [
       "<pandas.io.formats.style.Styler at 0x3b37438>"
      ]
     },
     "execution_count": 6,
     "metadata": {},
     "output_type": "execute_result"
    }
   ],
   "source": [
    "df.groupby('python')['downloads'].sum()\\\n",
    "    .sort_values(ascending=False).to_frame()\\\n",
    "    .apply(lambda x: x / x.sum()).style.format('{:.2%}').set_uuid('6')"
   ]
  },
  {
   "cell_type": "code",
   "execution_count": 7,
   "metadata": {},
   "outputs": [
    {
     "data": {
      "image/png": "[encoded data removed]",
      "text/plain": [
       "<matplotlib.figure.Figure at 0xc5dc588>"
      ]
     },
     "metadata": {},
     "output_type": "display_data"
    }
   ],
   "source": [
    "df.groupby(['year', 'month', 'python']).sum()\\\n",
    "    [lambda x: x['downloads'] > 200].reset_index()\\\n",
    "    .assign(date=lambda x: pd.to_datetime(x[['year', 'month']].assign(day=1)))\\\n",
    "    .pivot(index='date', columns='python', values='downloads').fillna(0, downcast='infer')\\\n",
    "    .plot();"
   ]
  },
  {
   "cell_type": "code",
   "execution_count": 8,
   "metadata": {},
   "outputs": [
    {
     "data": {
      "text/html": [
       "<div>\n",
       "<style>\n",
       "    .dataframe thead tr:only-child th {\n",
       "        text-align: right;\n",
       "    }\n",
       "\n",
       "    .dataframe thead th {\n",
       "        text-align: left;\n",
       "    }\n",
       "\n",
       "    .dataframe tbody tr th {\n",
       "        vertical-align: top;\n",
       "    }\n",
       "</style>\n",
       "<table border=\"1\" class=\"dataframe\">\n",
       "  <thead>\n",
       "    <tr style=\"text-align: right;\">\n",
       "      <th></th>\n",
       "      <th>year</th>\n",
       "      <th>month</th>\n",
       "      <th>version</th>\n",
       "      <th>type</th>\n",
       "      <th>country</th>\n",
       "      <th>python</th>\n",
       "      <th>system</th>\n",
       "      <th>downloads</th>\n",
       "    </tr>\n",
       "  </thead>\n",
       "  <tbody>\n",
       "    <tr>\n",
       "      <th>2835</th>\n",
       "      <td>2017</td>\n",
       "      <td>5</td>\n",
       "      <td>0.1</td>\n",
       "      <td>sdist</td>\n",
       "      <td>AU</td>\n",
       "      <td>N/A</td>\n",
       "      <td>N/A</td>\n",
       "      <td>1</td>\n",
       "    </tr>\n",
       "    <tr>\n",
       "      <th>2836</th>\n",
       "      <td>2017</td>\n",
       "      <td>5</td>\n",
       "      <td>0.1</td>\n",
       "      <td>sdist</td>\n",
       "      <td>BE</td>\n",
       "      <td>2.7</td>\n",
       "      <td>N/A</td>\n",
       "      <td>1</td>\n",
       "    </tr>\n",
       "    <tr>\n",
       "      <th>2837</th>\n",
       "      <td>2017</td>\n",
       "      <td>5</td>\n",
       "      <td>0.1</td>\n",
       "      <td>sdist</td>\n",
       "      <td>BE</td>\n",
       "      <td>N/A</td>\n",
       "      <td>N/A</td>\n",
       "      <td>1</td>\n",
       "    </tr>\n",
       "    <tr>\n",
       "      <th>2838</th>\n",
       "      <td>2017</td>\n",
       "      <td>5</td>\n",
       "      <td>0.1</td>\n",
       "      <td>sdist</td>\n",
       "      <td>CA</td>\n",
       "      <td>N/A</td>\n",
       "      <td>N/A</td>\n",
       "      <td>2</td>\n",
       "    </tr>\n",
       "    <tr>\n",
       "      <th>2839</th>\n",
       "      <td>2017</td>\n",
       "      <td>5</td>\n",
       "      <td>0.1</td>\n",
       "      <td>sdist</td>\n",
       "      <td>CN</td>\n",
       "      <td>N/A</td>\n",
       "      <td>N/A</td>\n",
       "      <td>11</td>\n",
       "    </tr>\n",
       "  </tbody>\n",
       "</table>\n",
       "</div>"
      ],
      "text/plain": [
       "      year  month version   type country python system  downloads\n",
       "2835  2017      5     0.1  sdist      AU    N/A    N/A          1\n",
       "2836  2017      5     0.1  sdist      BE    2.7    N/A          1\n",
       "2837  2017      5     0.1  sdist      BE    N/A    N/A          1\n",
       "2838  2017      5     0.1  sdist      CA    N/A    N/A          2\n",
       "2839  2017      5     0.1  sdist      CN    N/A    N/A         11"
      ]
     },
     "execution_count": 8,
     "metadata": {},
     "output_type": "execute_result"
    }
   ],
   "source": [
    "gf = df[df['project'] == 'graphviz'].drop('project', axis=1)\n",
    "gf.head()"
   ]
  },
  {
   "cell_type": "code",
   "execution_count": 9,
   "metadata": {},
   "outputs": [
    {
     "data": {
      "image/png": "[encoded data removed]",
      "text/plain": [
       "<matplotlib.figure.Figure at 0x5319828>"
      ]
     },
     "metadata": {},
     "output_type": "display_data"
    }
   ],
   "source": [
    "gf.groupby('country')['downloads'].sum().sort_values(ascending=False)[:10].plot.bar(figsize=(12, 4));"
   ]
  },
  {
   "cell_type": "code",
   "execution_count": 10,
   "metadata": {},
   "outputs": [
    {
     "data": {
      "image/png": "[encoded data removed]",
      "text/plain": [
       "<matplotlib.figure.Figure at 0x9db5198>"
      ]
     },
     "metadata": {},
     "output_type": "display_data"
    }
   ],
   "source": [
    "gf.groupby('version')['downloads'].sum().sort_values(ascending=False)[:10].plot.bar(figsize=(12, 4));"
   ]
  },
  {
   "cell_type": "code",
   "execution_count": 11,
   "metadata": {},
   "outputs": [
    {
     "data": {
      "image/png": "[encoded data removed]",
      "text/plain": [
       "<matplotlib.figure.Figure at 0xa8879b0>"
      ]
     },
     "metadata": {},
     "output_type": "display_data"
    }
   ],
   "source": [
    "gf.groupby('type')['downloads'].sum().sort_values().plot.barh();"
   ]
  },
  {
   "cell_type": "code",
   "execution_count": 12,
   "metadata": {},
   "outputs": [
    {
     "data": {
      "image/png": "[encoded data removed]",
      "text/plain": [
       "<matplotlib.figure.Figure at 0xbda1d68>"
      ]
     },
     "metadata": {},
     "output_type": "display_data"
    }
   ],
   "source": [
    "gf.groupby('python')['downloads'].sum().sort_values()[-6:].plot.barh();"
   ]
  },
  {
   "cell_type": "code",
   "execution_count": 13,
   "metadata": {},
   "outputs": [
    {
     "data": {
      "image/png": "[encoded data removed]",
      "text/plain": [
       "<matplotlib.figure.Figure at 0xbd8cac8>"
      ]
     },
     "metadata": {},
     "output_type": "display_data"
    }
   ],
   "source": [
    "gf.groupby('system')['downloads'].sum().sort_values()[-5:].plot.barh();"
   ]
  }
 ],
 "metadata": {
  "kernelspec": {
   "display_name": "Python 3",
   "language": "python",
   "name": "python3"
  },
  "language_info": {
   "codemirror_mode": {
    "name": "ipython",
    "version": 3
   },
   "file_extension": ".py",
   "mimetype": "text/x-python",
   "name": "python",
   "nbconvert_exporter": "python",
   "pygments_lexer": "ipython3",
   "version": "3.6.1"
  }
 },
 "nbformat": 4,
 "nbformat_minor": 2
}
