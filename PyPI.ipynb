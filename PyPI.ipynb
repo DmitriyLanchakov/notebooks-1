{
 "cells": [
  {
   "cell_type": "code",
   "execution_count": 1,
   "metadata": {
    "collapsed": false,
    "deletable": true,
    "editable": true
   },
   "outputs": [],
   "source": [
    "%matplotlib inline\n",
    "\n",
    "import os\n",
    "import datetime\n",
    "import functools\n",
    "\n",
    "import pandas as pd\n",
    "\n",
    "PROJECT_ID = 'scripting-148608'\n",
    "\n",
    "def get_credentials(scopes, secrets='~/client_secrets.json', storage='~/storage.json'):\n",
    "    from oauth2client import file, client, tools\n",
    "    store = file.Storage(os.path.expanduser(storage))\n",
    "    creds = store.get()\n",
    "    if creds is None or creds.invalid:\n",
    "        flow = client.flow_from_clientsecrets(os.path.expanduser(secrets), scopes)\n",
    "        creds = tools.run_flow(flow, store, tools.argparser.parse_args([]))\n",
    "    return creds\n",
    "\n",
    "class GbqConnector(pd.io.gbq.GbqConnector):\n",
    "\n",
    "    def get_user_account_credentials(self):\n",
    "        return get_credentials(self.scope)\n",
    "\n",
    "pd.io.gbq.GbqConnector = GbqConnector  # monkey patch\n",
    "\n",
    "read_gbq = functools.partial(pd.io.gbq.read_gbq, project_id=PROJECT_ID)"
   ]
  },
  {
   "cell_type": "code",
   "execution_count": 2,
   "metadata": {
    "collapsed": false,
    "deletable": true,
    "editable": true
   },
   "outputs": [
    {
     "data": {
      "text/html": [
       "<div>\n",
       "<table border=\"1\" class=\"dataframe\">\n",
       "  <thead>\n",
       "    <tr style=\"text-align: right;\">\n",
       "      <th></th>\n",
       "      <th>year</th>\n",
       "      <th>month</th>\n",
       "      <th>python</th>\n",
       "      <th>downloads</th>\n",
       "    </tr>\n",
       "  </thead>\n",
       "  <tbody>\n",
       "    <tr>\n",
       "      <th>0</th>\n",
       "      <td>2017</td>\n",
       "      <td>2</td>\n",
       "      <td>2.7</td>\n",
       "      <td>21579</td>\n",
       "    </tr>\n",
       "    <tr>\n",
       "      <th>1</th>\n",
       "      <td>2017</td>\n",
       "      <td>2</td>\n",
       "      <td>3.5</td>\n",
       "      <td>7312</td>\n",
       "    </tr>\n",
       "    <tr>\n",
       "      <th>2</th>\n",
       "      <td>2017</td>\n",
       "      <td>2</td>\n",
       "      <td>3.4</td>\n",
       "      <td>5247</td>\n",
       "    </tr>\n",
       "    <tr>\n",
       "      <th>3</th>\n",
       "      <td>2017</td>\n",
       "      <td>2</td>\n",
       "      <td>NaN</td>\n",
       "      <td>4249</td>\n",
       "    </tr>\n",
       "    <tr>\n",
       "      <th>4</th>\n",
       "      <td>2017</td>\n",
       "      <td>2</td>\n",
       "      <td>3.6</td>\n",
       "      <td>1899</td>\n",
       "    </tr>\n",
       "  </tbody>\n",
       "</table>\n",
       "</div>"
      ],
      "text/plain": [
       "   year  month  python  downloads\n",
       "0  2017      2     2.7      21579\n",
       "1  2017      2     3.5       7312\n",
       "2  2017      2     3.4       5247\n",
       "3  2017      2     NaN       4249\n",
       "4  2017      2     3.6       1899"
      ]
     },
     "execution_count": 2,
     "metadata": {},
     "output_type": "execute_result"
    }
   ],
   "source": [
    "RESULT, START, END = 'pypi-graphviz.csv', '20160601', datetime.datetime.now().strftime('%Y%m%d')\n",
    "\n",
    "query = '''SELECT\n",
    "  YEAR(timestamp) AS year, MONTH(timestamp) AS month,\n",
    "  REGEXP_EXTRACT(details.python, r'^([^\\.]+\\.[^\\.]+)') AS python,\n",
    "  COUNT(*) AS downloads\n",
    "FROM TABLE_DATE_RANGE([the-psf:pypi.downloads], TIMESTAMP('%s'), TIMESTAMP('%s'))\n",
    "WHERE file.project = 'graphviz'\n",
    "GROUP BY year, month, python\n",
    "ORDER BY year DESC, month DESC, downloads DESC''' % (START, END)\n",
    "\n",
    "if not os.path.exists(RESULT):\n",
    "    df = read_gbq(query)\n",
    "    df.to_csv(RESULT, index=False, encoding='utf-8')\n",
    "\n",
    "df = pd.read_csv(RESULT, encoding='utf-8')\n",
    "df.head()"
   ]
  },
  {
   "cell_type": "code",
   "execution_count": 3,
   "metadata": {
    "collapsed": false,
    "deletable": true,
    "editable": true
   },
   "outputs": [
    {
     "data": {
      "image/png": "[encoded data removed]",
      "text/plain": [
       "<matplotlib.figure.Figure at 0x27d9390>"
      ]
     },
     "metadata": {},
     "output_type": "display_data"
    }
   ],
   "source": [
    "df.fillna('N/A').groupby('python')['downloads'].sum()\\\n",
    "    .sort_values(ascending=False)[:8].plot.bar(figsize=(12, 4));"
   ]
  },
  {
   "cell_type": "code",
   "execution_count": 4,
   "metadata": {
    "collapsed": false,
    "deletable": true,
    "editable": true
   },
   "outputs": [
    {
     "data": {
      "text/html": [
       "\n",
       "        <style  type=\"text/css\" >\n",
       "        \n",
       "        \n",
       "        </style>\n",
       "\n",
       "        <table id=\"T_4\" None>\n",
       "        \n",
       "\n",
       "        <thead>\n",
       "            \n",
       "            <tr>\n",
       "                \n",
       "                \n",
       "                <th class=\"blank level0\" >\n",
       "                  \n",
       "                \n",
       "                \n",
       "                \n",
       "                <th class=\"col_heading level0 col0\" colspan=1>\n",
       "                  downloads\n",
       "                \n",
       "                \n",
       "            </tr>\n",
       "            \n",
       "            <tr>\n",
       "                \n",
       "                \n",
       "                <th class=\"index_name level0\" >\n",
       "                  python\n",
       "                \n",
       "                \n",
       "                \n",
       "                <th class=\"blank\" >\n",
       "                  \n",
       "                \n",
       "                \n",
       "            </tr>\n",
       "            \n",
       "        </thead>\n",
       "        <tbody>\n",
       "            \n",
       "            <tr>\n",
       "                \n",
       "                \n",
       "                <th id=\"T_4\"\n",
       "                 class=\"row_heading level0 row0\" rowspan=1>\n",
       "                    2.7\n",
       "                \n",
       "                \n",
       "                \n",
       "                <td id=\"T_4row0_col0\"\n",
       "                 class=\"data row0 col0\" >\n",
       "                    56.31%\n",
       "                \n",
       "                \n",
       "            </tr>\n",
       "            \n",
       "            <tr>\n",
       "                \n",
       "                \n",
       "                <th id=\"T_4\"\n",
       "                 class=\"row_heading level0 row1\" rowspan=1>\n",
       "                    N/A\n",
       "                \n",
       "                \n",
       "                \n",
       "                <td id=\"T_4row1_col0\"\n",
       "                 class=\"data row1 col0\" >\n",
       "                    16.78%\n",
       "                \n",
       "                \n",
       "            </tr>\n",
       "            \n",
       "            <tr>\n",
       "                \n",
       "                \n",
       "                <th id=\"T_4\"\n",
       "                 class=\"row_heading level0 row2\" rowspan=1>\n",
       "                    3.5\n",
       "                \n",
       "                \n",
       "                \n",
       "                <td id=\"T_4row2_col0\"\n",
       "                 class=\"data row2 col0\" >\n",
       "                    15.61%\n",
       "                \n",
       "                \n",
       "            </tr>\n",
       "            \n",
       "            <tr>\n",
       "                \n",
       "                \n",
       "                <th id=\"T_4\"\n",
       "                 class=\"row_heading level0 row3\" rowspan=1>\n",
       "                    3.4\n",
       "                \n",
       "                \n",
       "                \n",
       "                <td id=\"T_4row3_col0\"\n",
       "                 class=\"data row3 col0\" >\n",
       "                    8.36%\n",
       "                \n",
       "                \n",
       "            </tr>\n",
       "            \n",
       "            <tr>\n",
       "                \n",
       "                \n",
       "                <th id=\"T_4\"\n",
       "                 class=\"row_heading level0 row4\" rowspan=1>\n",
       "                    3.6\n",
       "                \n",
       "                \n",
       "                \n",
       "                <td id=\"T_4row4_col0\"\n",
       "                 class=\"data row4 col0\" >\n",
       "                    1.25%\n",
       "                \n",
       "                \n",
       "            </tr>\n",
       "            \n",
       "            <tr>\n",
       "                \n",
       "                \n",
       "                <th id=\"T_4\"\n",
       "                 class=\"row_heading level0 row5\" rowspan=1>\n",
       "                    3.3\n",
       "                \n",
       "                \n",
       "                \n",
       "                <td id=\"T_4row5_col0\"\n",
       "                 class=\"data row5 col0\" >\n",
       "                    1.05%\n",
       "                \n",
       "                \n",
       "            </tr>\n",
       "            \n",
       "            <tr>\n",
       "                \n",
       "                \n",
       "                <th id=\"T_4\"\n",
       "                 class=\"row_heading level0 row6\" rowspan=1>\n",
       "                    2.6\n",
       "                \n",
       "                \n",
       "                \n",
       "                <td id=\"T_4row6_col0\"\n",
       "                 class=\"data row6 col0\" >\n",
       "                    0.53%\n",
       "                \n",
       "                \n",
       "            </tr>\n",
       "            \n",
       "            <tr>\n",
       "                \n",
       "                \n",
       "                <th id=\"T_4\"\n",
       "                 class=\"row_heading level0 row7\" rowspan=1>\n",
       "                    3.7\n",
       "                \n",
       "                \n",
       "                \n",
       "                <td id=\"T_4row7_col0\"\n",
       "                 class=\"data row7 col0\" >\n",
       "                    0.08%\n",
       "                \n",
       "                \n",
       "            </tr>\n",
       "            \n",
       "            <tr>\n",
       "                \n",
       "                \n",
       "                <th id=\"T_4\"\n",
       "                 class=\"row_heading level0 row8\" rowspan=1>\n",
       "                    1.17\n",
       "                \n",
       "                \n",
       "                \n",
       "                <td id=\"T_4row8_col0\"\n",
       "                 class=\"data row8 col0\" >\n",
       "                    0.02%\n",
       "                \n",
       "                \n",
       "            </tr>\n",
       "            \n",
       "            <tr>\n",
       "                \n",
       "                \n",
       "                <th id=\"T_4\"\n",
       "                 class=\"row_heading level0 row9\" rowspan=1>\n",
       "                    3.2\n",
       "                \n",
       "                \n",
       "                \n",
       "                <td id=\"T_4row9_col0\"\n",
       "                 class=\"data row9 col0\" >\n",
       "                    0.02%\n",
       "                \n",
       "                \n",
       "            </tr>\n",
       "            \n",
       "            <tr>\n",
       "                \n",
       "                \n",
       "                <th id=\"T_4\"\n",
       "                 class=\"row_heading level0 row10\" rowspan=1>\n",
       "                    2.5\n",
       "                \n",
       "                \n",
       "                \n",
       "                <td id=\"T_4row10_col0\"\n",
       "                 class=\"data row10 col0\" >\n",
       "                    0.00%\n",
       "                \n",
       "                \n",
       "            </tr>\n",
       "            \n",
       "            <tr>\n",
       "                \n",
       "                \n",
       "                <th id=\"T_4\"\n",
       "                 class=\"row_heading level0 row11\" rowspan=1>\n",
       "                    2.1\n",
       "                \n",
       "                \n",
       "                \n",
       "                <td id=\"T_4row11_col0\"\n",
       "                 class=\"data row11 col0\" >\n",
       "                    0.00%\n",
       "                \n",
       "                \n",
       "            </tr>\n",
       "            \n",
       "        </tbody>\n",
       "        </table>\n",
       "        "
      ],
      "text/plain": [
       "<pandas.formats.style.Styler at 0xdfdb1d0>"
      ]
     },
     "execution_count": 4,
     "metadata": {},
     "output_type": "execute_result"
    }
   ],
   "source": [
    "df.fillna('N/A').groupby('python')['downloads'].sum()\\\n",
    "    .sort_values(ascending=False).to_frame()\\\n",
    "    .apply(lambda x: x / x.sum()).style.format('{:.2%}').set_uuid('4')"
   ]
  },
  {
   "cell_type": "code",
   "execution_count": 5,
   "metadata": {
    "collapsed": false
   },
   "outputs": [
    {
     "data": {
      "text/html": [
       "<div>\n",
       "<table border=\"1\" class=\"dataframe\">\n",
       "  <thead>\n",
       "    <tr style=\"text-align: right;\">\n",
       "      <th></th>\n",
       "      <th>year</th>\n",
       "      <th>month</th>\n",
       "      <th>country</th>\n",
       "      <th>version</th>\n",
       "      <th>type</th>\n",
       "      <th>python</th>\n",
       "      <th>system</th>\n",
       "      <th>downloads</th>\n",
       "    </tr>\n",
       "  </thead>\n",
       "  <tbody>\n",
       "    <tr>\n",
       "      <th>0</th>\n",
       "      <td>2017</td>\n",
       "      <td>2</td>\n",
       "      <td>N/A</td>\n",
       "      <td>0.3.1</td>\n",
       "      <td>sdist</td>\n",
       "      <td>N/A</td>\n",
       "      <td>N/A</td>\n",
       "      <td>6</td>\n",
       "    </tr>\n",
       "    <tr>\n",
       "      <th>1</th>\n",
       "      <td>2017</td>\n",
       "      <td>2</td>\n",
       "      <td>N/A</td>\n",
       "      <td>0.4.2</td>\n",
       "      <td>bdist_wheel</td>\n",
       "      <td>N/A</td>\n",
       "      <td>N/A</td>\n",
       "      <td>6</td>\n",
       "    </tr>\n",
       "    <tr>\n",
       "      <th>2</th>\n",
       "      <td>2017</td>\n",
       "      <td>2</td>\n",
       "      <td>N/A</td>\n",
       "      <td>0.4.7</td>\n",
       "      <td>bdist_wheel</td>\n",
       "      <td>N/A</td>\n",
       "      <td>N/A</td>\n",
       "      <td>6</td>\n",
       "    </tr>\n",
       "    <tr>\n",
       "      <th>3</th>\n",
       "      <td>2017</td>\n",
       "      <td>2</td>\n",
       "      <td>N/A</td>\n",
       "      <td>0.5.2</td>\n",
       "      <td>sdist</td>\n",
       "      <td>N/A</td>\n",
       "      <td>N/A</td>\n",
       "      <td>18</td>\n",
       "    </tr>\n",
       "    <tr>\n",
       "      <th>4</th>\n",
       "      <td>2017</td>\n",
       "      <td>2</td>\n",
       "      <td>N/A</td>\n",
       "      <td>0.5.2</td>\n",
       "      <td>sdist</td>\n",
       "      <td>2.6</td>\n",
       "      <td>N/A</td>\n",
       "      <td>1</td>\n",
       "    </tr>\n",
       "  </tbody>\n",
       "</table>\n",
       "</div>"
      ],
      "text/plain": [
       "   year  month country version         type python system  downloads\n",
       "0  2017      2     N/A   0.3.1        sdist    N/A    N/A          6\n",
       "1  2017      2     N/A   0.4.2  bdist_wheel    N/A    N/A          6\n",
       "2  2017      2     N/A   0.4.7  bdist_wheel    N/A    N/A          6\n",
       "3  2017      2     N/A   0.5.2        sdist    N/A    N/A         18\n",
       "4  2017      2     N/A   0.5.2        sdist    2.6    N/A          1"
      ]
     },
     "execution_count": 5,
     "metadata": {},
     "output_type": "execute_result"
    }
   ],
   "source": [
    "RESULT, START, END = 'pypi-graphviz-0702.csv', '20170201', '20170223'\n",
    "\n",
    "query = '''SELECT\n",
    "  EXTRACT(YEAR FROM timestamp) AS year, EXTRACT(MONTH FROM timestamp) AS month,\n",
    "  country_code AS country,\n",
    "  file.version AS version, file.type AS type,\n",
    "  REGEXP_EXTRACT(details.python, r'^([^\\.]+\\.[^\\.]+)') AS python,\n",
    "  details.system.name AS system,\n",
    "  COUNT(*) AS downloads\n",
    "FROM `the-psf.pypi.downloads*`\n",
    "WHERE _TABLE_SUFFIX BETWEEN '%s' AND '%s' AND file.project = 'graphviz'\n",
    "GROUP BY year, month, country, version, type, python, system''' % (START, END)\n",
    "\n",
    "if not os.path.exists(RESULT):\n",
    "    ff = read_gbq(query, dialect='standard')\n",
    "    ff.to_csv(RESULT, index=False, encoding='utf-8')\n",
    "\n",
    "ff = pd.read_csv(RESULT, encoding='utf-8').fillna('N/A')\n",
    "ff.head()"
   ]
  },
  {
   "cell_type": "code",
   "execution_count": 6,
   "metadata": {
    "collapsed": false
   },
   "outputs": [
    {
     "data": {
      "text/plain": [
       "39164"
      ]
     },
     "execution_count": 6,
     "metadata": {},
     "output_type": "execute_result"
    }
   ],
   "source": [
    "ff['downloads'].sum()"
   ]
  },
  {
   "cell_type": "code",
   "execution_count": 7,
   "metadata": {
    "collapsed": false
   },
   "outputs": [
    {
     "data": {
      "image/png": "[encoded data removed]",
      "text/plain": [
       "<matplotlib.figure.Figure at 0xdfca940>"
      ]
     },
     "metadata": {},
     "output_type": "display_data"
    }
   ],
   "source": [
    "ff.groupby('country')['downloads'].sum().sort_values(ascending=False)[:10].plot.bar(figsize=(12, 4));"
   ]
  },
  {
   "cell_type": "code",
   "execution_count": 8,
   "metadata": {
    "collapsed": false
   },
   "outputs": [
    {
     "data": {
      "image/png": "[encoded data removed]",
      "text/plain": [
       "<matplotlib.figure.Figure at 0xe2e2e10>"
      ]
     },
     "metadata": {},
     "output_type": "display_data"
    }
   ],
   "source": [
    "ff.groupby('version')['downloads'].sum().sort_values(ascending=False)[:10].plot.bar(figsize=(12, 4));"
   ]
  },
  {
   "cell_type": "code",
   "execution_count": 9,
   "metadata": {
    "collapsed": false
   },
   "outputs": [
    {
     "data": {
      "image/png": "[encoded data removed]",
      "text/plain": [
       "<matplotlib.figure.Figure at 0xe636080>"
      ]
     },
     "metadata": {},
     "output_type": "display_data"
    }
   ],
   "source": [
    "ff.groupby('type')['downloads'].sum().sort_values().plot.barh();"
   ]
  },
  {
   "cell_type": "code",
   "execution_count": 10,
   "metadata": {
    "collapsed": false
   },
   "outputs": [
    {
     "data": {
      "image/png": "[encoded data removed]",
      "text/plain": [
       "<matplotlib.figure.Figure at 0xe851518>"
      ]
     },
     "metadata": {},
     "output_type": "display_data"
    }
   ],
   "source": [
    "ff.groupby('python')['downloads'].sum().sort_values()[-6:].plot.barh();"
   ]
  },
  {
   "cell_type": "code",
   "execution_count": 11,
   "metadata": {
    "collapsed": false
   },
   "outputs": [
    {
     "data": {
      "image/png": "[encoded data removed]",
      "text/plain": [
       "<matplotlib.figure.Figure at 0xec2bdd8>"
      ]
     },
     "metadata": {},
     "output_type": "display_data"
    }
   ],
   "source": [
    "ff.groupby('system')['downloads'].sum().sort_values()[-5:].plot.barh();"
   ]
  }
 ],
 "metadata": {
  "kernelspec": {
   "display_name": "Python 2",
   "language": "python",
   "name": "python2"
  },
  "language_info": {
   "codemirror_mode": {
    "name": "ipython",
    "version": 2
   },
   "file_extension": ".py",
   "mimetype": "text/x-python",
   "name": "python",
   "nbconvert_exporter": "python",
   "pygments_lexer": "ipython2",
   "version": "2.7.13"
  }
 },
 "nbformat": 4,
 "nbformat_minor": 2
}
